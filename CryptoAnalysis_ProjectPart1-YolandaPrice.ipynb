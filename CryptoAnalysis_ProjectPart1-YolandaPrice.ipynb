{
 "cells": [
  {
   "cell_type": "markdown",
   "id": "f482f51f",
   "metadata": {},
   "source": [
    "# Reading in the historical data of the five main cryptocurrencies to be analyzed "
   ]
  },
  {
   "cell_type": "code",
   "execution_count": 1,
   "id": "788cca36",
   "metadata": {},
   "outputs": [],
   "source": [
    "import pandas as pd\n",
    "import numpy as np"
   ]
  },
  {
   "cell_type": "code",
   "execution_count": 2,
   "id": "041a2780",
   "metadata": {},
   "outputs": [],
   "source": [
    "DogecoinData = pd.read_csv(\"C:/Users/Administrator/OneDrive/Documents/DataScienceWork/DataScienceResearchData/CurrencyHistoryData/DogecoinHistoricalData.csv\")"
   ]
  },
  {
   "cell_type": "code",
   "execution_count": 3,
   "id": "effb53d5",
   "metadata": {},
   "outputs": [
    {
     "data": {
      "text/html": [
       "<div>\n",
       "<style scoped>\n",
       "    .dataframe tbody tr th:only-of-type {\n",
       "        vertical-align: middle;\n",
       "    }\n",
       "\n",
       "    .dataframe tbody tr th {\n",
       "        vertical-align: top;\n",
       "    }\n",
       "\n",
       "    .dataframe thead th {\n",
       "        text-align: right;\n",
       "    }\n",
       "</style>\n",
       "<table border=\"1\" class=\"dataframe\">\n",
       "  <thead>\n",
       "    <tr style=\"text-align: right;\">\n",
       "      <th></th>\n",
       "      <th>Date</th>\n",
       "      <th>Price</th>\n",
       "      <th>Open</th>\n",
       "      <th>High</th>\n",
       "      <th>Low</th>\n",
       "      <th>Vol.</th>\n",
       "      <th>Change %</th>\n",
       "    </tr>\n",
       "  </thead>\n",
       "  <tbody>\n",
       "    <tr>\n",
       "      <th>0</th>\n",
       "      <td>Nov 02, 2021</td>\n",
       "      <td>0.271840</td>\n",
       "      <td>0.271789</td>\n",
       "      <td>0.280659</td>\n",
       "      <td>0.267469</td>\n",
       "      <td>2.64B</td>\n",
       "      <td>0.04%</td>\n",
       "    </tr>\n",
       "    <tr>\n",
       "      <th>1</th>\n",
       "      <td>Nov 01, 2021</td>\n",
       "      <td>0.271736</td>\n",
       "      <td>0.279974</td>\n",
       "      <td>0.285830</td>\n",
       "      <td>0.263697</td>\n",
       "      <td>3.85B</td>\n",
       "      <td>-2.93%</td>\n",
       "    </tr>\n",
       "    <tr>\n",
       "      <th>2</th>\n",
       "      <td>Oct 31, 2021</td>\n",
       "      <td>0.279928</td>\n",
       "      <td>0.268516</td>\n",
       "      <td>0.284980</td>\n",
       "      <td>0.252456</td>\n",
       "      <td>5.86B</td>\n",
       "      <td>4.25%</td>\n",
       "    </tr>\n",
       "    <tr>\n",
       "      <th>3</th>\n",
       "      <td>Oct 30, 2021</td>\n",
       "      <td>0.268515</td>\n",
       "      <td>0.288094</td>\n",
       "      <td>0.294704</td>\n",
       "      <td>0.258190</td>\n",
       "      <td>5.08B</td>\n",
       "      <td>-6.78%</td>\n",
       "    </tr>\n",
       "    <tr>\n",
       "      <th>4</th>\n",
       "      <td>Oct 29, 2021</td>\n",
       "      <td>0.288042</td>\n",
       "      <td>0.299655</td>\n",
       "      <td>0.306514</td>\n",
       "      <td>0.277888</td>\n",
       "      <td>7.56B</td>\n",
       "      <td>-3.87%</td>\n",
       "    </tr>\n",
       "  </tbody>\n",
       "</table>\n",
       "</div>"
      ],
      "text/plain": [
       "           Date     Price      Open      High       Low   Vol. Change %\n",
       "0  Nov 02, 2021  0.271840  0.271789  0.280659  0.267469  2.64B    0.04%\n",
       "1  Nov 01, 2021  0.271736  0.279974  0.285830  0.263697  3.85B   -2.93%\n",
       "2  Oct 31, 2021  0.279928  0.268516  0.284980  0.252456  5.86B    4.25%\n",
       "3  Oct 30, 2021  0.268515  0.288094  0.294704  0.258190  5.08B   -6.78%\n",
       "4  Oct 29, 2021  0.288042  0.299655  0.306514  0.277888  7.56B   -3.87%"
      ]
     },
     "execution_count": 3,
     "metadata": {},
     "output_type": "execute_result"
    }
   ],
   "source": [
    "DogecoinData.head()"
   ]
  },
  {
   "cell_type": "code",
   "execution_count": 4,
   "id": "3b50056a",
   "metadata": {},
   "outputs": [],
   "source": [
    "DogecoinData['Change Ratio'] = DogecoinData['Change %'].str.rstrip('%').astype('float') / 100.0"
   ]
  },
  {
   "cell_type": "code",
   "execution_count": 5,
   "id": "b13e6b7b",
   "metadata": {},
   "outputs": [
    {
     "data": {
      "text/html": [
       "<div>\n",
       "<style scoped>\n",
       "    .dataframe tbody tr th:only-of-type {\n",
       "        vertical-align: middle;\n",
       "    }\n",
       "\n",
       "    .dataframe tbody tr th {\n",
       "        vertical-align: top;\n",
       "    }\n",
       "\n",
       "    .dataframe thead th {\n",
       "        text-align: right;\n",
       "    }\n",
       "</style>\n",
       "<table border=\"1\" class=\"dataframe\">\n",
       "  <thead>\n",
       "    <tr style=\"text-align: right;\">\n",
       "      <th></th>\n",
       "      <th>Date</th>\n",
       "      <th>Price</th>\n",
       "      <th>Open</th>\n",
       "      <th>High</th>\n",
       "      <th>Low</th>\n",
       "      <th>Vol.</th>\n",
       "      <th>Change %</th>\n",
       "      <th>Change Ratio</th>\n",
       "    </tr>\n",
       "  </thead>\n",
       "  <tbody>\n",
       "    <tr>\n",
       "      <th>0</th>\n",
       "      <td>Nov 02, 2021</td>\n",
       "      <td>0.271840</td>\n",
       "      <td>0.271789</td>\n",
       "      <td>0.280659</td>\n",
       "      <td>0.267469</td>\n",
       "      <td>2.64B</td>\n",
       "      <td>0.04%</td>\n",
       "      <td>0.0004</td>\n",
       "    </tr>\n",
       "    <tr>\n",
       "      <th>1</th>\n",
       "      <td>Nov 01, 2021</td>\n",
       "      <td>0.271736</td>\n",
       "      <td>0.279974</td>\n",
       "      <td>0.285830</td>\n",
       "      <td>0.263697</td>\n",
       "      <td>3.85B</td>\n",
       "      <td>-2.93%</td>\n",
       "      <td>-0.0293</td>\n",
       "    </tr>\n",
       "    <tr>\n",
       "      <th>2</th>\n",
       "      <td>Oct 31, 2021</td>\n",
       "      <td>0.279928</td>\n",
       "      <td>0.268516</td>\n",
       "      <td>0.284980</td>\n",
       "      <td>0.252456</td>\n",
       "      <td>5.86B</td>\n",
       "      <td>4.25%</td>\n",
       "      <td>0.0425</td>\n",
       "    </tr>\n",
       "    <tr>\n",
       "      <th>3</th>\n",
       "      <td>Oct 30, 2021</td>\n",
       "      <td>0.268515</td>\n",
       "      <td>0.288094</td>\n",
       "      <td>0.294704</td>\n",
       "      <td>0.258190</td>\n",
       "      <td>5.08B</td>\n",
       "      <td>-6.78%</td>\n",
       "      <td>-0.0678</td>\n",
       "    </tr>\n",
       "    <tr>\n",
       "      <th>4</th>\n",
       "      <td>Oct 29, 2021</td>\n",
       "      <td>0.288042</td>\n",
       "      <td>0.299655</td>\n",
       "      <td>0.306514</td>\n",
       "      <td>0.277888</td>\n",
       "      <td>7.56B</td>\n",
       "      <td>-3.87%</td>\n",
       "      <td>-0.0387</td>\n",
       "    </tr>\n",
       "    <tr>\n",
       "      <th>...</th>\n",
       "      <td>...</td>\n",
       "      <td>...</td>\n",
       "      <td>...</td>\n",
       "      <td>...</td>\n",
       "      <td>...</td>\n",
       "      <td>...</td>\n",
       "      <td>...</td>\n",
       "      <td>...</td>\n",
       "    </tr>\n",
       "    <tr>\n",
       "      <th>1609</th>\n",
       "      <td>Jun 07, 2017</td>\n",
       "      <td>0.003250</td>\n",
       "      <td>0.003617</td>\n",
       "      <td>0.003950</td>\n",
       "      <td>0.003132</td>\n",
       "      <td>1.37M</td>\n",
       "      <td>-10.15%</td>\n",
       "      <td>-0.1015</td>\n",
       "    </tr>\n",
       "    <tr>\n",
       "      <th>1610</th>\n",
       "      <td>Jun 06, 2017</td>\n",
       "      <td>0.003617</td>\n",
       "      <td>0.003718</td>\n",
       "      <td>0.003718</td>\n",
       "      <td>0.003152</td>\n",
       "      <td>2.11M</td>\n",
       "      <td>-2.72%</td>\n",
       "      <td>-0.0272</td>\n",
       "    </tr>\n",
       "    <tr>\n",
       "      <th>1611</th>\n",
       "      <td>Jun 05, 2017</td>\n",
       "      <td>0.003718</td>\n",
       "      <td>0.003770</td>\n",
       "      <td>0.003825</td>\n",
       "      <td>0.002923</td>\n",
       "      <td>4.82M</td>\n",
       "      <td>-1.38%</td>\n",
       "      <td>-0.0138</td>\n",
       "    </tr>\n",
       "    <tr>\n",
       "      <th>1612</th>\n",
       "      <td>Jun 04, 2017</td>\n",
       "      <td>0.003770</td>\n",
       "      <td>0.003213</td>\n",
       "      <td>0.003770</td>\n",
       "      <td>0.002544</td>\n",
       "      <td>5.96M</td>\n",
       "      <td>17.34%</td>\n",
       "      <td>0.1734</td>\n",
       "    </tr>\n",
       "    <tr>\n",
       "      <th>1613</th>\n",
       "      <td>Jun 03, 2017</td>\n",
       "      <td>0.003213</td>\n",
       "      <td>0.002803</td>\n",
       "      <td>0.003398</td>\n",
       "      <td>0.002655</td>\n",
       "      <td>4.37M</td>\n",
       "      <td>14.63%</td>\n",
       "      <td>0.1463</td>\n",
       "    </tr>\n",
       "  </tbody>\n",
       "</table>\n",
       "<p>1614 rows × 8 columns</p>\n",
       "</div>"
      ],
      "text/plain": [
       "              Date     Price      Open      High       Low   Vol. Change %  \\\n",
       "0     Nov 02, 2021  0.271840  0.271789  0.280659  0.267469  2.64B    0.04%   \n",
       "1     Nov 01, 2021  0.271736  0.279974  0.285830  0.263697  3.85B   -2.93%   \n",
       "2     Oct 31, 2021  0.279928  0.268516  0.284980  0.252456  5.86B    4.25%   \n",
       "3     Oct 30, 2021  0.268515  0.288094  0.294704  0.258190  5.08B   -6.78%   \n",
       "4     Oct 29, 2021  0.288042  0.299655  0.306514  0.277888  7.56B   -3.87%   \n",
       "...            ...       ...       ...       ...       ...    ...      ...   \n",
       "1609  Jun 07, 2017  0.003250  0.003617  0.003950  0.003132  1.37M  -10.15%   \n",
       "1610  Jun 06, 2017  0.003617  0.003718  0.003718  0.003152  2.11M   -2.72%   \n",
       "1611  Jun 05, 2017  0.003718  0.003770  0.003825  0.002923  4.82M   -1.38%   \n",
       "1612  Jun 04, 2017  0.003770  0.003213  0.003770  0.002544  5.96M   17.34%   \n",
       "1613  Jun 03, 2017  0.003213  0.002803  0.003398  0.002655  4.37M   14.63%   \n",
       "\n",
       "      Change Ratio  \n",
       "0           0.0004  \n",
       "1          -0.0293  \n",
       "2           0.0425  \n",
       "3          -0.0678  \n",
       "4          -0.0387  \n",
       "...            ...  \n",
       "1609       -0.1015  \n",
       "1610       -0.0272  \n",
       "1611       -0.0138  \n",
       "1612        0.1734  \n",
       "1613        0.1463  \n",
       "\n",
       "[1614 rows x 8 columns]"
      ]
     },
     "execution_count": 5,
     "metadata": {},
     "output_type": "execute_result"
    }
   ],
   "source": [
    "DogecoinData"
   ]
  },
  {
   "cell_type": "code",
   "execution_count": 6,
   "id": "56190acc",
   "metadata": {},
   "outputs": [
    {
     "data": {
      "text/html": [
       "<div>\n",
       "<style scoped>\n",
       "    .dataframe tbody tr th:only-of-type {\n",
       "        vertical-align: middle;\n",
       "    }\n",
       "\n",
       "    .dataframe tbody tr th {\n",
       "        vertical-align: top;\n",
       "    }\n",
       "\n",
       "    .dataframe thead th {\n",
       "        text-align: right;\n",
       "    }\n",
       "</style>\n",
       "<table border=\"1\" class=\"dataframe\">\n",
       "  <thead>\n",
       "    <tr style=\"text-align: right;\">\n",
       "      <th></th>\n",
       "      <th>Price</th>\n",
       "      <th>Open</th>\n",
       "      <th>High</th>\n",
       "      <th>Low</th>\n",
       "      <th>Change Ratio</th>\n",
       "    </tr>\n",
       "  </thead>\n",
       "  <tbody>\n",
       "    <tr>\n",
       "      <th>count</th>\n",
       "      <td>1614.000000</td>\n",
       "      <td>1614.000000</td>\n",
       "      <td>1614.000000</td>\n",
       "      <td>1614.000000</td>\n",
       "      <td>1614.000000</td>\n",
       "    </tr>\n",
       "    <tr>\n",
       "      <th>mean</th>\n",
       "      <td>0.041084</td>\n",
       "      <td>0.040917</td>\n",
       "      <td>0.044041</td>\n",
       "      <td>0.037797</td>\n",
       "      <td>0.044932</td>\n",
       "    </tr>\n",
       "    <tr>\n",
       "      <th>std</th>\n",
       "      <td>0.098494</td>\n",
       "      <td>0.098336</td>\n",
       "      <td>0.106291</td>\n",
       "      <td>0.089771</td>\n",
       "      <td>1.546289</td>\n",
       "    </tr>\n",
       "    <tr>\n",
       "      <th>min</th>\n",
       "      <td>0.000774</td>\n",
       "      <td>0.000774</td>\n",
       "      <td>0.000793</td>\n",
       "      <td>0.000669</td>\n",
       "      <td>-0.984300</td>\n",
       "    </tr>\n",
       "    <tr>\n",
       "      <th>25%</th>\n",
       "      <td>0.002376</td>\n",
       "      <td>0.002376</td>\n",
       "      <td>0.002460</td>\n",
       "      <td>0.002294</td>\n",
       "      <td>-0.026375</td>\n",
       "    </tr>\n",
       "    <tr>\n",
       "      <th>50%</th>\n",
       "      <td>0.002887</td>\n",
       "      <td>0.002887</td>\n",
       "      <td>0.003001</td>\n",
       "      <td>0.002770</td>\n",
       "      <td>-0.000550</td>\n",
       "    </tr>\n",
       "    <tr>\n",
       "      <th>75%</th>\n",
       "      <td>0.005630</td>\n",
       "      <td>0.005628</td>\n",
       "      <td>0.005853</td>\n",
       "      <td>0.005298</td>\n",
       "      <td>0.021925</td>\n",
       "    </tr>\n",
       "    <tr>\n",
       "      <th>max</th>\n",
       "      <td>0.686880</td>\n",
       "      <td>0.686914</td>\n",
       "      <td>0.738255</td>\n",
       "      <td>0.605162</td>\n",
       "      <td>61.915500</td>\n",
       "    </tr>\n",
       "  </tbody>\n",
       "</table>\n",
       "</div>"
      ],
      "text/plain": [
       "             Price         Open         High          Low  Change Ratio\n",
       "count  1614.000000  1614.000000  1614.000000  1614.000000   1614.000000\n",
       "mean      0.041084     0.040917     0.044041     0.037797      0.044932\n",
       "std       0.098494     0.098336     0.106291     0.089771      1.546289\n",
       "min       0.000774     0.000774     0.000793     0.000669     -0.984300\n",
       "25%       0.002376     0.002376     0.002460     0.002294     -0.026375\n",
       "50%       0.002887     0.002887     0.003001     0.002770     -0.000550\n",
       "75%       0.005630     0.005628     0.005853     0.005298      0.021925\n",
       "max       0.686880     0.686914     0.738255     0.605162     61.915500"
      ]
     },
     "execution_count": 6,
     "metadata": {},
     "output_type": "execute_result"
    }
   ],
   "source": [
    "DogecoinData.describe()"
   ]
  },
  {
   "cell_type": "code",
   "execution_count": 7,
   "id": "4a24fe75",
   "metadata": {},
   "outputs": [],
   "source": [
    "from scipy import stats"
   ]
  },
  {
   "cell_type": "code",
   "execution_count": 8,
   "id": "35f21d0a",
   "metadata": {},
   "outputs": [
    {
     "data": {
      "text/plain": [
       "<AxesSubplot:xlabel='Change Ratio', ylabel='Price'>"
      ]
     },
     "execution_count": 8,
     "metadata": {},
     "output_type": "execute_result"
    },
    {
     "data": {
      "image/png": "[encoded data removed]",
      "text/plain": [
       "<Figure size 432x288 with 1 Axes>"
      ]
     },
     "metadata": {
      "needs_background": "light"
     },
     "output_type": "display_data"
    }
   ],
   "source": [
    "import seaborn as sns\n",
    "sns.scatterplot(data= DogecoinData, x= \"Change Ratio\", y= \"Price\")"
   ]
  },
  {
   "cell_type": "code",
   "execution_count": 9,
   "id": "9bbac3fe",
   "metadata": {},
   "outputs": [
    {
     "data": {
      "text/html": [
       "<div>\n",
       "<style scoped>\n",
       "    .dataframe tbody tr th:only-of-type {\n",
       "        vertical-align: middle;\n",
       "    }\n",
       "\n",
       "    .dataframe tbody tr th {\n",
       "        vertical-align: top;\n",
       "    }\n",
       "\n",
       "    .dataframe thead th {\n",
       "        text-align: right;\n",
       "    }\n",
       "</style>\n",
       "<table border=\"1\" class=\"dataframe\">\n",
       "  <thead>\n",
       "    <tr style=\"text-align: right;\">\n",
       "      <th></th>\n",
       "      <th>Date</th>\n",
       "      <th>Price</th>\n",
       "      <th>Open</th>\n",
       "      <th>High</th>\n",
       "      <th>Low</th>\n",
       "      <th>Vol.</th>\n",
       "      <th>Change %</th>\n",
       "      <th>Change Ratio</th>\n",
       "    </tr>\n",
       "  </thead>\n",
       "  <tbody>\n",
       "    <tr>\n",
       "      <th>278</th>\n",
       "      <td>Jan 28, 2021</td>\n",
       "      <td>0.036265</td>\n",
       "      <td>0.007415</td>\n",
       "      <td>0.037902</td>\n",
       "      <td>0.007415</td>\n",
       "      <td>12.41B</td>\n",
       "      <td>387.36%</td>\n",
       "      <td>3.8736</td>\n",
       "    </tr>\n",
       "    <tr>\n",
       "      <th>657</th>\n",
       "      <td>Jan 15, 2020</td>\n",
       "      <td>0.148228</td>\n",
       "      <td>0.002356</td>\n",
       "      <td>0.180909</td>\n",
       "      <td>0.002328</td>\n",
       "      <td>2.21B</td>\n",
       "      <td>6191.55%</td>\n",
       "      <td>61.9155</td>\n",
       "    </tr>\n",
       "  </tbody>\n",
       "</table>\n",
       "</div>"
      ],
      "text/plain": [
       "             Date     Price      Open      High       Low    Vol.  Change %  \\\n",
       "278  Jan 28, 2021  0.036265  0.007415  0.037902  0.007415  12.41B   387.36%   \n",
       "657  Jan 15, 2020  0.148228  0.002356  0.180909  0.002328   2.21B  6191.55%   \n",
       "\n",
       "     Change Ratio  \n",
       "278        3.8736  \n",
       "657       61.9155  "
      ]
     },
     "execution_count": 9,
     "metadata": {},
     "output_type": "execute_result"
    }
   ],
   "source": [
    "DogecoinData[DogecoinData['Change Ratio'] > 3]"
   ]
  },
  {
   "cell_type": "code",
   "execution_count": 10,
   "id": "bb0d7889",
   "metadata": {},
   "outputs": [
    {
     "data": {
      "text/plain": [
       "<AxesSubplot:xlabel='Change Ratio', ylabel='Price'>"
      ]
     },
     "execution_count": 10,
     "metadata": {},
     "output_type": "execute_result"
    },
    {
     "data": {
      "image/png": "[encoded data removed]",
      "text/plain": [
       "<Figure size 432x288 with 1 Axes>"
      ]
     },
     "metadata": {
      "needs_background": "light"
     },
     "output_type": "display_data"
    }
   ],
   "source": [
    "sns.scatterplot(data= DogecoinData[DogecoinData['Change Ratio'] < 2], x= \"Change Ratio\", y= \"Price\")"
   ]
  },
  {
   "cell_type": "code",
   "execution_count": 11,
   "id": "5fc4183d",
   "metadata": {},
   "outputs": [
    {
     "data": {
      "text/plain": [
       "<AxesSubplot:xlabel='Change Ratio', ylabel='Price'>"
      ]
     },
     "execution_count": 11,
     "metadata": {},
     "output_type": "execute_result"
    },
    {
     "data": {
      "image/png": "[encoded data removed]",
      "text/plain": [
       "<Figure size 432x288 with 1 Axes>"
      ]
     },
     "metadata": {
      "needs_background": "light"
     },
     "output_type": "display_data"
    }
   ],
   "source": [
    "sns.scatterplot(data= DogecoinData[(DogecoinData['Change Ratio'] < 0.75) & (DogecoinData['Change Ratio'] > -0.75)], x= \"Change Ratio\", y= \"Price\")"
   ]
  },
  {
   "cell_type": "code",
   "execution_count": 12,
   "id": "f8904f67",
   "metadata": {},
   "outputs": [],
   "source": [
    "import pandas as pd\n",
    "from sklearn.linear_model import LinearRegression\n",
    "from sklearn.model_selection import train_test_split\n",
    "import matplotlib.pyplot as plt\n",
    "%matplotlib inline\n",
    "from sklearn import metrics\n",
    "import numpy as np\n",
    "\n",
    "from sklearn.model_selection import cross_val_score\n",
    "\n",
    "from sklearn.utils import shuffle\n"
   ]
  },
  {
   "cell_type": "code",
   "execution_count": 13,
   "id": "ab5dc443",
   "metadata": {},
   "outputs": [],
   "source": [
    "DogecoinData_Clean = shuffle(DogecoinData[[\"Price\", \"Change Ratio\"]].dropna())\n"
   ]
  },
  {
   "cell_type": "code",
   "execution_count": 14,
   "id": "4d7a0e2a",
   "metadata": {},
   "outputs": [
    {
     "data": {
      "text/html": [
       "<div>\n",
       "<style scoped>\n",
       "    .dataframe tbody tr th:only-of-type {\n",
       "        vertical-align: middle;\n",
       "    }\n",
       "\n",
       "    .dataframe tbody tr th {\n",
       "        vertical-align: top;\n",
       "    }\n",
       "\n",
       "    .dataframe thead th {\n",
       "        text-align: right;\n",
       "    }\n",
       "</style>\n",
       "<table border=\"1\" class=\"dataframe\">\n",
       "  <thead>\n",
       "    <tr style=\"text-align: right;\">\n",
       "      <th></th>\n",
       "      <th>Price</th>\n",
       "      <th>Change Ratio</th>\n",
       "    </tr>\n",
       "  </thead>\n",
       "  <tbody>\n",
       "    <tr>\n",
       "      <th>122</th>\n",
       "      <td>0.246818</td>\n",
       "      <td>0.0092</td>\n",
       "    </tr>\n",
       "    <tr>\n",
       "      <th>814</th>\n",
       "      <td>0.002909</td>\n",
       "      <td>0.0368</td>\n",
       "    </tr>\n",
       "    <tr>\n",
       "      <th>1343</th>\n",
       "      <td>0.006070</td>\n",
       "      <td>-0.0411</td>\n",
       "    </tr>\n",
       "    <tr>\n",
       "      <th>153</th>\n",
       "      <td>0.423130</td>\n",
       "      <td>0.1465</td>\n",
       "    </tr>\n",
       "    <tr>\n",
       "      <th>1110</th>\n",
       "      <td>0.004597</td>\n",
       "      <td>0.0260</td>\n",
       "    </tr>\n",
       "    <tr>\n",
       "      <th>...</th>\n",
       "      <td>...</td>\n",
       "      <td>...</td>\n",
       "    </tr>\n",
       "    <tr>\n",
       "      <th>128</th>\n",
       "      <td>0.263852</td>\n",
       "      <td>0.0784</td>\n",
       "    </tr>\n",
       "    <tr>\n",
       "      <th>427</th>\n",
       "      <td>0.003242</td>\n",
       "      <td>0.0100</td>\n",
       "    </tr>\n",
       "    <tr>\n",
       "      <th>1403</th>\n",
       "      <td>0.007672</td>\n",
       "      <td>-0.1686</td>\n",
       "    </tr>\n",
       "    <tr>\n",
       "      <th>74</th>\n",
       "      <td>0.313874</td>\n",
       "      <td>-0.0068</td>\n",
       "    </tr>\n",
       "    <tr>\n",
       "      <th>209</th>\n",
       "      <td>0.058728</td>\n",
       "      <td>-0.0864</td>\n",
       "    </tr>\n",
       "  </tbody>\n",
       "</table>\n",
       "<p>1614 rows × 2 columns</p>\n",
       "</div>"
      ],
      "text/plain": [
       "         Price  Change Ratio\n",
       "122   0.246818        0.0092\n",
       "814   0.002909        0.0368\n",
       "1343  0.006070       -0.0411\n",
       "153   0.423130        0.1465\n",
       "1110  0.004597        0.0260\n",
       "...        ...           ...\n",
       "128   0.263852        0.0784\n",
       "427   0.003242        0.0100\n",
       "1403  0.007672       -0.1686\n",
       "74    0.313874       -0.0068\n",
       "209   0.058728       -0.0864\n",
       "\n",
       "[1614 rows x 2 columns]"
      ]
     },
     "execution_count": 14,
     "metadata": {},
     "output_type": "execute_result"
    }
   ],
   "source": [
    "DogecoinData_Clean"
   ]
  },
  {
   "cell_type": "code",
   "execution_count": 15,
   "id": "3326b2df",
   "metadata": {},
   "outputs": [],
   "source": [
    "x = pd.DataFrame(DogecoinData_Clean[\"Change Ratio\"])\n",
    "y = DogecoinData_Clean[\"Price\"]\n",
    "lm = LinearRegression()"
   ]
  },
  {
   "cell_type": "code",
   "execution_count": 16,
   "id": "7408945a",
   "metadata": {},
   "outputs": [
    {
     "data": {
      "text/plain": [
       "array([ 7.70351662e-05, -1.47312269e-03, -6.13372384e-01])"
      ]
     },
     "execution_count": 16,
     "metadata": {},
     "output_type": "execute_result"
    }
   ],
   "source": [
    "cross_val_score(lm, x, y, cv=3)"
   ]
  },
  {
   "cell_type": "code",
   "execution_count": 17,
   "id": "afded1da",
   "metadata": {},
   "outputs": [
    {
     "data": {
      "text/plain": [
       "<AxesSubplot:>"
      ]
     },
     "execution_count": 17,
     "metadata": {},
     "output_type": "execute_result"
    },
    {
     "data": {
      "image/png": "[encoded data removed]",
      "text/plain": [
       "<Figure size 432x288 with 1 Axes>"
      ]
     },
     "metadata": {
      "needs_background": "light"
     },
     "output_type": "display_data"
    }
   ],
   "source": [
    "DogecoinData[[\"Price\", \"Change Ratio\"]].plot(kind=\"line\")"
   ]
  },
  {
   "cell_type": "code",
   "execution_count": 19,
   "id": "2e1f3584",
   "metadata": {},
   "outputs": [
    {
     "data": {
      "text/plain": [
       "<AxesSubplot:>"
      ]
     },
     "execution_count": 19,
     "metadata": {},
     "output_type": "execute_result"
    },
    {
     "data": {
      "image/png": "[encoded data removed]",
      "text/plain": [
       "<Figure size 432x288 with 1 Axes>"
      ]
     },
     "metadata": {
      "needs_background": "light"
     },
     "output_type": "display_data"
    }
   ],
   "source": [
    "DogecoinData[[\"High\", \"Low\"]].mean().plot(kind=\"bar\")"
   ]
  },
  {
   "cell_type": "code",
   "execution_count": 20,
   "id": "f0c366f2",
   "metadata": {},
   "outputs": [
    {
     "data": {
      "text/plain": [
       "Ttest_relResult(statistic=11.033131978274636, pvalue=2.4438699054662176e-27)"
      ]
     },
     "execution_count": 20,
     "metadata": {},
     "output_type": "execute_result"
    }
   ],
   "source": [
    "stats.ttest_rel(DogecoinData.High, DogecoinData.Low)"
   ]
  },
  {
   "cell_type": "markdown",
   "id": "6b568f9f",
   "metadata": {},
   "source": [
    "# Data Analysis on Litecoin Data"
   ]
  },
  {
   "cell_type": "code",
   "execution_count": 21,
   "id": "8e80c8d7",
   "metadata": {},
   "outputs": [],
   "source": [
    "import pandas as pd\n",
    "import numpy as np\n",
    "import matplotlib.pyplot as plt\n",
    "from pylab import *\n",
    "import seaborn as sns\n",
    "%matplotlib inline\n",
    "import  statsmodels.api as sm\n",
    "import statsmodels.stats.api as sms\n",
    "from scipy.stats import boxcox\n",
    "from sklearn.model_selection import cross_val_score\n",
    "\n",
    "from sklearn.utils import shuffle\n",
    "\n"
   ]
  },
  {
   "cell_type": "code",
   "execution_count": 22,
   "id": "b1f65078",
   "metadata": {},
   "outputs": [],
   "source": [
    "LitecoinData = pd.read_csv(\"C:/Users/Administrator/OneDrive/Documents/DataScienceWork/DataScienceResearchData/CurrencyHistoryData/LitecoinHistoricalData.csv\")"
   ]
  },
  {
   "cell_type": "code",
   "execution_count": 23,
   "id": "d92dfd67",
   "metadata": {},
   "outputs": [
    {
     "data": {
      "text/html": [
       "<div>\n",
       "<style scoped>\n",
       "    .dataframe tbody tr th:only-of-type {\n",
       "        vertical-align: middle;\n",
       "    }\n",
       "\n",
       "    .dataframe tbody tr th {\n",
       "        vertical-align: top;\n",
       "    }\n",
       "\n",
       "    .dataframe thead th {\n",
       "        text-align: right;\n",
       "    }\n",
       "</style>\n",
       "<table border=\"1\" class=\"dataframe\">\n",
       "  <thead>\n",
       "    <tr style=\"text-align: right;\">\n",
       "      <th></th>\n",
       "      <th>Date</th>\n",
       "      <th>Price</th>\n",
       "      <th>Open</th>\n",
       "      <th>High</th>\n",
       "      <th>Low</th>\n",
       "      <th>Vol.</th>\n",
       "      <th>Change %</th>\n",
       "    </tr>\n",
       "  </thead>\n",
       "  <tbody>\n",
       "    <tr>\n",
       "      <th>0</th>\n",
       "      <td>Apr 25, 2021</td>\n",
       "      <td>226.251</td>\n",
       "      <td>224.941</td>\n",
       "      <td>231.097</td>\n",
       "      <td>220.927</td>\n",
       "      <td>208.06M</td>\n",
       "      <td>0.47%</td>\n",
       "    </tr>\n",
       "    <tr>\n",
       "      <th>1</th>\n",
       "      <td>Apr 24, 2021</td>\n",
       "      <td>225.197</td>\n",
       "      <td>241.429</td>\n",
       "      <td>241.429</td>\n",
       "      <td>220.646</td>\n",
       "      <td>212.21M</td>\n",
       "      <td>-6.71%</td>\n",
       "    </tr>\n",
       "    <tr>\n",
       "      <th>2</th>\n",
       "      <td>Apr 23, 2021</td>\n",
       "      <td>241.399</td>\n",
       "      <td>252.997</td>\n",
       "      <td>257.108</td>\n",
       "      <td>207.384</td>\n",
       "      <td>206.15M</td>\n",
       "      <td>-4.58%</td>\n",
       "    </tr>\n",
       "    <tr>\n",
       "      <th>3</th>\n",
       "      <td>Apr 22, 2021</td>\n",
       "      <td>252.999</td>\n",
       "      <td>257.635</td>\n",
       "      <td>289.448</td>\n",
       "      <td>239.902</td>\n",
       "      <td>243.18M</td>\n",
       "      <td>-1.89%</td>\n",
       "    </tr>\n",
       "    <tr>\n",
       "      <th>4</th>\n",
       "      <td>Apr 21, 2021</td>\n",
       "      <td>257.870</td>\n",
       "      <td>260.548</td>\n",
       "      <td>276.490</td>\n",
       "      <td>250.907</td>\n",
       "      <td>240.64M</td>\n",
       "      <td>-1.19%</td>\n",
       "    </tr>\n",
       "  </tbody>\n",
       "</table>\n",
       "</div>"
      ],
      "text/plain": [
       "           Date    Price     Open     High      Low     Vol. Change %\n",
       "0  Apr 25, 2021  226.251  224.941  231.097  220.927  208.06M    0.47%\n",
       "1  Apr 24, 2021  225.197  241.429  241.429  220.646  212.21M   -6.71%\n",
       "2  Apr 23, 2021  241.399  252.997  257.108  207.384  206.15M   -4.58%\n",
       "3  Apr 22, 2021  252.999  257.635  289.448  239.902  243.18M   -1.89%\n",
       "4  Apr 21, 2021  257.870  260.548  276.490  250.907  240.64M   -1.19%"
      ]
     },
     "execution_count": 23,
     "metadata": {},
     "output_type": "execute_result"
    }
   ],
   "source": [
    "LitecoinData.head()"
   ]
  },
  {
   "cell_type": "code",
   "execution_count": 24,
   "id": "80a8a3ab",
   "metadata": {},
   "outputs": [
    {
     "data": {
      "text/html": [
       "<div>\n",
       "<style scoped>\n",
       "    .dataframe tbody tr th:only-of-type {\n",
       "        vertical-align: middle;\n",
       "    }\n",
       "\n",
       "    .dataframe tbody tr th {\n",
       "        vertical-align: top;\n",
       "    }\n",
       "\n",
       "    .dataframe thead th {\n",
       "        text-align: right;\n",
       "    }\n",
       "</style>\n",
       "<table border=\"1\" class=\"dataframe\">\n",
       "  <thead>\n",
       "    <tr style=\"text-align: right;\">\n",
       "      <th></th>\n",
       "      <th>Price</th>\n",
       "      <th>Open</th>\n",
       "      <th>High</th>\n",
       "      <th>Low</th>\n",
       "    </tr>\n",
       "  </thead>\n",
       "  <tbody>\n",
       "    <tr>\n",
       "      <th>count</th>\n",
       "      <td>1706.000000</td>\n",
       "      <td>1706.000000</td>\n",
       "      <td>1706.000000</td>\n",
       "      <td>1706.000000</td>\n",
       "    </tr>\n",
       "    <tr>\n",
       "      <th>mean</th>\n",
       "      <td>73.323192</td>\n",
       "      <td>73.192575</td>\n",
       "      <td>76.574565</td>\n",
       "      <td>69.532658</td>\n",
       "    </tr>\n",
       "    <tr>\n",
       "      <th>std</th>\n",
       "      <td>61.187445</td>\n",
       "      <td>61.098851</td>\n",
       "      <td>64.848055</td>\n",
       "      <td>56.829347</td>\n",
       "    </tr>\n",
       "    <tr>\n",
       "      <th>min</th>\n",
       "      <td>3.500000</td>\n",
       "      <td>3.510000</td>\n",
       "      <td>3.580000</td>\n",
       "      <td>3.260000</td>\n",
       "    </tr>\n",
       "    <tr>\n",
       "      <th>25%</th>\n",
       "      <td>40.805000</td>\n",
       "      <td>40.758750</td>\n",
       "      <td>42.145000</td>\n",
       "      <td>39.560000</td>\n",
       "    </tr>\n",
       "    <tr>\n",
       "      <th>50%</th>\n",
       "      <td>56.007500</td>\n",
       "      <td>55.963000</td>\n",
       "      <td>57.836000</td>\n",
       "      <td>54.062000</td>\n",
       "    </tr>\n",
       "    <tr>\n",
       "      <th>75%</th>\n",
       "      <td>89.079250</td>\n",
       "      <td>88.987500</td>\n",
       "      <td>93.148000</td>\n",
       "      <td>84.977500</td>\n",
       "    </tr>\n",
       "    <tr>\n",
       "      <th>max</th>\n",
       "      <td>359.400000</td>\n",
       "      <td>359.400000</td>\n",
       "      <td>420.000000</td>\n",
       "      <td>324.670000</td>\n",
       "    </tr>\n",
       "  </tbody>\n",
       "</table>\n",
       "</div>"
      ],
      "text/plain": [
       "             Price         Open         High          Low\n",
       "count  1706.000000  1706.000000  1706.000000  1706.000000\n",
       "mean     73.323192    73.192575    76.574565    69.532658\n",
       "std      61.187445    61.098851    64.848055    56.829347\n",
       "min       3.500000     3.510000     3.580000     3.260000\n",
       "25%      40.805000    40.758750    42.145000    39.560000\n",
       "50%      56.007500    55.963000    57.836000    54.062000\n",
       "75%      89.079250    88.987500    93.148000    84.977500\n",
       "max     359.400000   359.400000   420.000000   324.670000"
      ]
     },
     "execution_count": 24,
     "metadata": {},
     "output_type": "execute_result"
    }
   ],
   "source": [
    "LitecoinData.describe()"
   ]
  },
  {
   "cell_type": "code",
   "execution_count": 25,
   "id": "9b06f602",
   "metadata": {},
   "outputs": [
    {
     "data": {
      "text/plain": [
       "Ttest_relResult(statistic=25.04899682799332, pvalue=3.5900489612572737e-118)"
      ]
     },
     "execution_count": 25,
     "metadata": {},
     "output_type": "execute_result"
    }
   ],
   "source": [
    "stats.ttest_rel(LitecoinData.High, LitecoinData.Low)"
   ]
  },
  {
   "cell_type": "code",
   "execution_count": 26,
   "id": "c5885294",
   "metadata": {},
   "outputs": [
    {
     "data": {
      "text/plain": [
       "<AxesSubplot:>"
      ]
     },
     "execution_count": 26,
     "metadata": {},
     "output_type": "execute_result"
    },
    {
     "data": {
      "image/png": "[encoded data removed]",
      "text/plain": [
       "<Figure size 432x288 with 1 Axes>"
      ]
     },
     "metadata": {
      "needs_background": "light"
     },
     "output_type": "display_data"
    }
   ],
   "source": [
    "LitecoinData[[\"High\", \"Low\"]].mean().plot(kind=\"bar\")"
   ]
  },
  {
   "cell_type": "code",
   "execution_count": 27,
   "id": "fead82a9",
   "metadata": {},
   "outputs": [],
   "source": [
    "LitecoinData['Change Ratio'] = LitecoinData['Change %'].str.rstrip('%').astype('float') / 100.0"
   ]
  },
  {
   "cell_type": "code",
   "execution_count": 28,
   "id": "b4cb56f3",
   "metadata": {},
   "outputs": [],
   "source": [
    "LitecoinData_Clean = shuffle(LitecoinData[[\"Price\", \"Change Ratio\"]].dropna())"
   ]
  },
  {
   "cell_type": "code",
   "execution_count": 29,
   "id": "0cefb713",
   "metadata": {},
   "outputs": [
    {
     "data": {
      "text/html": [
       "<div>\n",
       "<style scoped>\n",
       "    .dataframe tbody tr th:only-of-type {\n",
       "        vertical-align: middle;\n",
       "    }\n",
       "\n",
       "    .dataframe tbody tr th {\n",
       "        vertical-align: top;\n",
       "    }\n",
       "\n",
       "    .dataframe thead th {\n",
       "        text-align: right;\n",
       "    }\n",
       "</style>\n",
       "<table border=\"1\" class=\"dataframe\">\n",
       "  <thead>\n",
       "    <tr style=\"text-align: right;\">\n",
       "      <th></th>\n",
       "      <th>Price</th>\n",
       "      <th>Change Ratio</th>\n",
       "    </tr>\n",
       "  </thead>\n",
       "  <tbody>\n",
       "    <tr>\n",
       "      <th>610</th>\n",
       "      <td>73.274</td>\n",
       "      <td>-0.0281</td>\n",
       "    </tr>\n",
       "    <tr>\n",
       "      <th>903</th>\n",
       "      <td>54.573</td>\n",
       "      <td>0.0676</td>\n",
       "    </tr>\n",
       "    <tr>\n",
       "      <th>615</th>\n",
       "      <td>77.103</td>\n",
       "      <td>0.0106</td>\n",
       "    </tr>\n",
       "    <tr>\n",
       "      <th>115</th>\n",
       "      <td>124.162</td>\n",
       "      <td>-0.0452</td>\n",
       "    </tr>\n",
       "    <tr>\n",
       "      <th>1251</th>\n",
       "      <td>70.000</td>\n",
       "      <td>-0.0361</td>\n",
       "    </tr>\n",
       "    <tr>\n",
       "      <th>...</th>\n",
       "      <td>...</td>\n",
       "      <td>...</td>\n",
       "    </tr>\n",
       "    <tr>\n",
       "      <th>701</th>\n",
       "      <td>102.714</td>\n",
       "      <td>0.0246</td>\n",
       "    </tr>\n",
       "    <tr>\n",
       "      <th>947</th>\n",
       "      <td>60.934</td>\n",
       "      <td>0.0774</td>\n",
       "    </tr>\n",
       "    <tr>\n",
       "      <th>1386</th>\n",
       "      <td>48.760</td>\n",
       "      <td>-0.0490</td>\n",
       "    </tr>\n",
       "    <tr>\n",
       "      <th>1110</th>\n",
       "      <td>118.325</td>\n",
       "      <td>0.0350</td>\n",
       "    </tr>\n",
       "    <tr>\n",
       "      <th>822</th>\n",
       "      <td>32.540</td>\n",
       "      <td>0.0247</td>\n",
       "    </tr>\n",
       "  </tbody>\n",
       "</table>\n",
       "<p>1706 rows × 2 columns</p>\n",
       "</div>"
      ],
      "text/plain": [
       "        Price  Change Ratio\n",
       "610    73.274       -0.0281\n",
       "903    54.573        0.0676\n",
       "615    77.103        0.0106\n",
       "115   124.162       -0.0452\n",
       "1251   70.000       -0.0361\n",
       "...       ...           ...\n",
       "701   102.714        0.0246\n",
       "947    60.934        0.0774\n",
       "1386   48.760       -0.0490\n",
       "1110  118.325        0.0350\n",
       "822    32.540        0.0247\n",
       "\n",
       "[1706 rows x 2 columns]"
      ]
     },
     "execution_count": 29,
     "metadata": {},
     "output_type": "execute_result"
    }
   ],
   "source": [
    "LitecoinData_Clean"
   ]
  },
  {
   "cell_type": "code",
   "execution_count": 73,
   "id": "558f02b9",
   "metadata": {},
   "outputs": [],
   "source": [
    "x = pd.DataFrame(LitecoinData_Clean[\"Change Ratio\"])\n",
    "y = LitecoinData_Clean[\"Price\"]\n",
    "lm = LinearRegression()"
   ]
  },
  {
   "cell_type": "code",
   "execution_count": 76,
   "id": "967626bc",
   "metadata": {},
   "outputs": [
    {
     "data": {
      "text/plain": [
       "array([0.00228854, 0.00067233, 0.00096543])"
      ]
     },
     "execution_count": 76,
     "metadata": {},
     "output_type": "execute_result"
    }
   ],
   "source": [
    "cross_val_score(lm, x, y, cv=3)"
   ]
  },
  {
   "cell_type": "code",
   "execution_count": 30,
   "id": "f648213a",
   "metadata": {
    "scrolled": true
   },
   "outputs": [
    {
     "data": {
      "text/plain": [
       "<AxesSubplot:xlabel='Change Ratio', ylabel='Price'>"
      ]
     },
     "execution_count": 30,
     "metadata": {},
     "output_type": "execute_result"
    },
    {
     "data": {
      "image/png": "[encoded data removed]",
      "text/plain": [
       "<Figure size 432x288 with 1 Axes>"
      ]
     },
     "metadata": {
      "needs_background": "light"
     },
     "output_type": "display_data"
    }
   ],
   "source": [
    "sns.scatterplot(data= LitecoinData, x= \"Change Ratio\", y= \"Price\")"
   ]
  },
  {
   "cell_type": "code",
   "execution_count": 31,
   "id": "502bb7ae",
   "metadata": {},
   "outputs": [
    {
     "data": {
      "text/html": [
       "<div>\n",
       "<style scoped>\n",
       "    .dataframe tbody tr th:only-of-type {\n",
       "        vertical-align: middle;\n",
       "    }\n",
       "\n",
       "    .dataframe tbody tr th {\n",
       "        vertical-align: top;\n",
       "    }\n",
       "\n",
       "    .dataframe thead th {\n",
       "        text-align: right;\n",
       "    }\n",
       "</style>\n",
       "<table border=\"1\" class=\"dataframe\">\n",
       "  <thead>\n",
       "    <tr style=\"text-align: right;\">\n",
       "      <th></th>\n",
       "      <th>Date</th>\n",
       "      <th>Price</th>\n",
       "      <th>Open</th>\n",
       "      <th>High</th>\n",
       "      <th>Low</th>\n",
       "      <th>Vol.</th>\n",
       "      <th>Change %</th>\n",
       "      <th>Change Ratio</th>\n",
       "    </tr>\n",
       "  </thead>\n",
       "  <tbody>\n",
       "    <tr>\n",
       "      <th>0</th>\n",
       "      <td>Apr 25, 2021</td>\n",
       "      <td>226.251</td>\n",
       "      <td>224.941</td>\n",
       "      <td>231.097</td>\n",
       "      <td>220.927</td>\n",
       "      <td>208.06M</td>\n",
       "      <td>0.47%</td>\n",
       "      <td>0.0047</td>\n",
       "    </tr>\n",
       "    <tr>\n",
       "      <th>1</th>\n",
       "      <td>Apr 24, 2021</td>\n",
       "      <td>225.197</td>\n",
       "      <td>241.429</td>\n",
       "      <td>241.429</td>\n",
       "      <td>220.646</td>\n",
       "      <td>212.21M</td>\n",
       "      <td>-6.71%</td>\n",
       "      <td>-0.0671</td>\n",
       "    </tr>\n",
       "    <tr>\n",
       "      <th>2</th>\n",
       "      <td>Apr 23, 2021</td>\n",
       "      <td>241.399</td>\n",
       "      <td>252.997</td>\n",
       "      <td>257.108</td>\n",
       "      <td>207.384</td>\n",
       "      <td>206.15M</td>\n",
       "      <td>-4.58%</td>\n",
       "      <td>-0.0458</td>\n",
       "    </tr>\n",
       "    <tr>\n",
       "      <th>3</th>\n",
       "      <td>Apr 22, 2021</td>\n",
       "      <td>252.999</td>\n",
       "      <td>257.635</td>\n",
       "      <td>289.448</td>\n",
       "      <td>239.902</td>\n",
       "      <td>243.18M</td>\n",
       "      <td>-1.89%</td>\n",
       "      <td>-0.0189</td>\n",
       "    </tr>\n",
       "    <tr>\n",
       "      <th>4</th>\n",
       "      <td>Apr 21, 2021</td>\n",
       "      <td>257.870</td>\n",
       "      <td>260.548</td>\n",
       "      <td>276.490</td>\n",
       "      <td>250.907</td>\n",
       "      <td>240.64M</td>\n",
       "      <td>-1.19%</td>\n",
       "      <td>-0.0119</td>\n",
       "    </tr>\n",
       "    <tr>\n",
       "      <th>...</th>\n",
       "      <td>...</td>\n",
       "      <td>...</td>\n",
       "      <td>...</td>\n",
       "      <td>...</td>\n",
       "      <td>...</td>\n",
       "      <td>...</td>\n",
       "      <td>...</td>\n",
       "      <td>...</td>\n",
       "    </tr>\n",
       "    <tr>\n",
       "      <th>1701</th>\n",
       "      <td>Aug 28, 2016</td>\n",
       "      <td>3.720</td>\n",
       "      <td>3.780</td>\n",
       "      <td>3.780</td>\n",
       "      <td>3.620</td>\n",
       "      <td>8.19K</td>\n",
       "      <td>-1.59%</td>\n",
       "      <td>-0.0159</td>\n",
       "    </tr>\n",
       "    <tr>\n",
       "      <th>1702</th>\n",
       "      <td>Aug 27, 2016</td>\n",
       "      <td>3.780</td>\n",
       "      <td>3.810</td>\n",
       "      <td>3.850</td>\n",
       "      <td>3.620</td>\n",
       "      <td>4.91K</td>\n",
       "      <td>-0.79%</td>\n",
       "      <td>-0.0079</td>\n",
       "    </tr>\n",
       "    <tr>\n",
       "      <th>1703</th>\n",
       "      <td>Aug 26, 2016</td>\n",
       "      <td>3.810</td>\n",
       "      <td>3.810</td>\n",
       "      <td>3.900</td>\n",
       "      <td>3.770</td>\n",
       "      <td>14.35K</td>\n",
       "      <td>0.00%</td>\n",
       "      <td>0.0000</td>\n",
       "    </tr>\n",
       "    <tr>\n",
       "      <th>1704</th>\n",
       "      <td>Aug 25, 2016</td>\n",
       "      <td>3.810</td>\n",
       "      <td>3.840</td>\n",
       "      <td>3.880</td>\n",
       "      <td>3.750</td>\n",
       "      <td>21.87K</td>\n",
       "      <td>-0.78%</td>\n",
       "      <td>-0.0078</td>\n",
       "    </tr>\n",
       "    <tr>\n",
       "      <th>1705</th>\n",
       "      <td>Aug 24, 2016</td>\n",
       "      <td>3.840</td>\n",
       "      <td>3.950</td>\n",
       "      <td>3.960</td>\n",
       "      <td>3.610</td>\n",
       "      <td>21.86K</td>\n",
       "      <td>-2.78%</td>\n",
       "      <td>-0.0278</td>\n",
       "    </tr>\n",
       "  </tbody>\n",
       "</table>\n",
       "<p>1706 rows × 8 columns</p>\n",
       "</div>"
      ],
      "text/plain": [
       "              Date    Price     Open     High      Low     Vol. Change %  \\\n",
       "0     Apr 25, 2021  226.251  224.941  231.097  220.927  208.06M    0.47%   \n",
       "1     Apr 24, 2021  225.197  241.429  241.429  220.646  212.21M   -6.71%   \n",
       "2     Apr 23, 2021  241.399  252.997  257.108  207.384  206.15M   -4.58%   \n",
       "3     Apr 22, 2021  252.999  257.635  289.448  239.902  243.18M   -1.89%   \n",
       "4     Apr 21, 2021  257.870  260.548  276.490  250.907  240.64M   -1.19%   \n",
       "...            ...      ...      ...      ...      ...      ...      ...   \n",
       "1701  Aug 28, 2016    3.720    3.780    3.780    3.620    8.19K   -1.59%   \n",
       "1702  Aug 27, 2016    3.780    3.810    3.850    3.620    4.91K   -0.79%   \n",
       "1703  Aug 26, 2016    3.810    3.810    3.900    3.770   14.35K    0.00%   \n",
       "1704  Aug 25, 2016    3.810    3.840    3.880    3.750   21.87K   -0.78%   \n",
       "1705  Aug 24, 2016    3.840    3.950    3.960    3.610   21.86K   -2.78%   \n",
       "\n",
       "      Change Ratio  \n",
       "0           0.0047  \n",
       "1          -0.0671  \n",
       "2          -0.0458  \n",
       "3          -0.0189  \n",
       "4          -0.0119  \n",
       "...            ...  \n",
       "1701       -0.0159  \n",
       "1702       -0.0079  \n",
       "1703        0.0000  \n",
       "1704       -0.0078  \n",
       "1705       -0.0278  \n",
       "\n",
       "[1706 rows x 8 columns]"
      ]
     },
     "execution_count": 31,
     "metadata": {},
     "output_type": "execute_result"
    }
   ],
   "source": [
    "LitecoinData[LitecoinData['Change Ratio'] < 3]"
   ]
  },
  {
   "cell_type": "code",
   "execution_count": 32,
   "id": "f76eed1d",
   "metadata": {},
   "outputs": [
    {
     "data": {
      "text/plain": [
       "<AxesSubplot:>"
      ]
     },
     "execution_count": 32,
     "metadata": {},
     "output_type": "execute_result"
    },
    {
     "data": {
      "image/png": "[encoded data removed]",
      "text/plain": [
       "<Figure size 432x288 with 1 Axes>"
      ]
     },
     "metadata": {
      "needs_background": "light"
     },
     "output_type": "display_data"
    }
   ],
   "source": [
    "LitecoinData[[\"Price\", \"Change Ratio\"]].plot(kind=\"line\")"
   ]
  },
  {
   "cell_type": "markdown",
   "id": "9e871f78",
   "metadata": {},
   "source": [
    "# Data Analysis on Bitcoin Data"
   ]
  },
  {
   "cell_type": "code",
   "execution_count": 33,
   "id": "cdc1e902",
   "metadata": {},
   "outputs": [],
   "source": [
    "BitcoinData = pd.read_csv(\"C:/Users/Administrator/OneDrive/Documents/DataScienceWork/DataScienceResearchData/CurrencyHistoryData/BitcoinHistoricalData.csv\")"
   ]
  },
  {
   "cell_type": "code",
   "execution_count": 34,
   "id": "e91ad52c",
   "metadata": {},
   "outputs": [
    {
     "data": {
      "text/html": [
       "<div>\n",
       "<style scoped>\n",
       "    .dataframe tbody tr th:only-of-type {\n",
       "        vertical-align: middle;\n",
       "    }\n",
       "\n",
       "    .dataframe tbody tr th {\n",
       "        vertical-align: top;\n",
       "    }\n",
       "\n",
       "    .dataframe thead th {\n",
       "        text-align: right;\n",
       "    }\n",
       "</style>\n",
       "<table border=\"1\" class=\"dataframe\">\n",
       "  <thead>\n",
       "    <tr style=\"text-align: right;\">\n",
       "      <th></th>\n",
       "      <th>Date</th>\n",
       "      <th>Price</th>\n",
       "      <th>Open</th>\n",
       "      <th>High</th>\n",
       "      <th>Low</th>\n",
       "      <th>Vol.</th>\n",
       "      <th>Change %</th>\n",
       "    </tr>\n",
       "  </thead>\n",
       "  <tbody>\n",
       "    <tr>\n",
       "      <th>0</th>\n",
       "      <td>Nov 02, 2021</td>\n",
       "      <td>63,439.90</td>\n",
       "      <td>60,912.20</td>\n",
       "      <td>64,256.40</td>\n",
       "      <td>60,651.50</td>\n",
       "      <td>62.71K</td>\n",
       "      <td>4.14%</td>\n",
       "    </tr>\n",
       "    <tr>\n",
       "      <th>1</th>\n",
       "      <td>Nov 01, 2021</td>\n",
       "      <td>60,915.30</td>\n",
       "      <td>61,310.10</td>\n",
       "      <td>62,430.10</td>\n",
       "      <td>59,612.70</td>\n",
       "      <td>61.21K</td>\n",
       "      <td>-0.64%</td>\n",
       "    </tr>\n",
       "    <tr>\n",
       "      <th>2</th>\n",
       "      <td>Oct 31, 2021</td>\n",
       "      <td>61,309.60</td>\n",
       "      <td>61,842.20</td>\n",
       "      <td>62,393.70</td>\n",
       "      <td>60,005.70</td>\n",
       "      <td>50.06K</td>\n",
       "      <td>-0.86%</td>\n",
       "    </tr>\n",
       "    <tr>\n",
       "      <th>3</th>\n",
       "      <td>Oct 30, 2021</td>\n",
       "      <td>61,840.10</td>\n",
       "      <td>62,245.00</td>\n",
       "      <td>62,338.50</td>\n",
       "      <td>60,786.00</td>\n",
       "      <td>40.51K</td>\n",
       "      <td>-0.65%</td>\n",
       "    </tr>\n",
       "    <tr>\n",
       "      <th>4</th>\n",
       "      <td>Oct 29, 2021</td>\n",
       "      <td>62,242.80</td>\n",
       "      <td>60,579.90</td>\n",
       "      <td>62,952.20</td>\n",
       "      <td>60,322.20</td>\n",
       "      <td>63.39K</td>\n",
       "      <td>2.74%</td>\n",
       "    </tr>\n",
       "  </tbody>\n",
       "</table>\n",
       "</div>"
      ],
      "text/plain": [
       "           Date      Price       Open       High        Low    Vol. Change %\n",
       "0  Nov 02, 2021  63,439.90  60,912.20  64,256.40  60,651.50  62.71K    4.14%\n",
       "1  Nov 01, 2021  60,915.30  61,310.10  62,430.10  59,612.70  61.21K   -0.64%\n",
       "2  Oct 31, 2021  61,309.60  61,842.20  62,393.70  60,005.70  50.06K   -0.86%\n",
       "3  Oct 30, 2021  61,840.10  62,245.00  62,338.50  60,786.00  40.51K   -0.65%\n",
       "4  Oct 29, 2021  62,242.80  60,579.90  62,952.20  60,322.20  63.39K    2.74%"
      ]
     },
     "execution_count": 34,
     "metadata": {},
     "output_type": "execute_result"
    }
   ],
   "source": [
    "BitcoinData.head()"
   ]
  },
  {
   "cell_type": "code",
   "execution_count": 35,
   "id": "48291f37",
   "metadata": {},
   "outputs": [],
   "source": [
    "BitcoinData['Price'] = BitcoinData['Price'].str.replace(',','').astype(float)\n",
    "BitcoinData['Open'] = BitcoinData['Open'].str.replace(',','').astype(float)\n",
    "BitcoinData['High'] = BitcoinData['High'].str.replace(',','').astype(float)\n",
    "BitcoinData['Low'] = BitcoinData['Low'].str.replace(',','').astype(float)"
   ]
  },
  {
   "cell_type": "code",
   "execution_count": 36,
   "id": "0f71af7a",
   "metadata": {},
   "outputs": [
    {
     "data": {
      "text/html": [
       "<div>\n",
       "<style scoped>\n",
       "    .dataframe tbody tr th:only-of-type {\n",
       "        vertical-align: middle;\n",
       "    }\n",
       "\n",
       "    .dataframe tbody tr th {\n",
       "        vertical-align: top;\n",
       "    }\n",
       "\n",
       "    .dataframe thead th {\n",
       "        text-align: right;\n",
       "    }\n",
       "</style>\n",
       "<table border=\"1\" class=\"dataframe\">\n",
       "  <thead>\n",
       "    <tr style=\"text-align: right;\">\n",
       "      <th></th>\n",
       "      <th>Price</th>\n",
       "      <th>Open</th>\n",
       "      <th>High</th>\n",
       "      <th>Low</th>\n",
       "    </tr>\n",
       "  </thead>\n",
       "  <tbody>\n",
       "    <tr>\n",
       "      <th>count</th>\n",
       "      <td>4126.000000</td>\n",
       "      <td>4126.000000</td>\n",
       "      <td>4126.000000</td>\n",
       "      <td>4126.000000</td>\n",
       "    </tr>\n",
       "    <tr>\n",
       "      <th>mean</th>\n",
       "      <td>6210.315511</td>\n",
       "      <td>6194.992341</td>\n",
       "      <td>6381.345250</td>\n",
       "      <td>5993.270044</td>\n",
       "    </tr>\n",
       "    <tr>\n",
       "      <th>std</th>\n",
       "      <td>12325.115891</td>\n",
       "      <td>12293.352089</td>\n",
       "      <td>12669.887138</td>\n",
       "      <td>11886.194840</td>\n",
       "    </tr>\n",
       "    <tr>\n",
       "      <th>min</th>\n",
       "      <td>0.100000</td>\n",
       "      <td>0.000000</td>\n",
       "      <td>0.100000</td>\n",
       "      <td>0.000000</td>\n",
       "    </tr>\n",
       "    <tr>\n",
       "      <th>25%</th>\n",
       "      <td>101.950000</td>\n",
       "      <td>101.750000</td>\n",
       "      <td>105.825000</td>\n",
       "      <td>96.050000</td>\n",
       "    </tr>\n",
       "    <tr>\n",
       "      <th>50%</th>\n",
       "      <td>606.000000</td>\n",
       "      <td>605.700000</td>\n",
       "      <td>612.500000</td>\n",
       "      <td>594.050000</td>\n",
       "    </tr>\n",
       "    <tr>\n",
       "      <th>75%</th>\n",
       "      <td>7394.675000</td>\n",
       "      <td>7388.100000</td>\n",
       "      <td>7572.775000</td>\n",
       "      <td>7226.200000</td>\n",
       "    </tr>\n",
       "    <tr>\n",
       "      <th>max</th>\n",
       "      <td>65979.100000</td>\n",
       "      <td>66004.600000</td>\n",
       "      <td>66967.100000</td>\n",
       "      <td>63543.700000</td>\n",
       "    </tr>\n",
       "  </tbody>\n",
       "</table>\n",
       "</div>"
      ],
      "text/plain": [
       "              Price          Open          High           Low\n",
       "count   4126.000000   4126.000000   4126.000000   4126.000000\n",
       "mean    6210.315511   6194.992341   6381.345250   5993.270044\n",
       "std    12325.115891  12293.352089  12669.887138  11886.194840\n",
       "min        0.100000      0.000000      0.100000      0.000000\n",
       "25%      101.950000    101.750000    105.825000     96.050000\n",
       "50%      606.000000    605.700000    612.500000    594.050000\n",
       "75%     7394.675000   7388.100000   7572.775000   7226.200000\n",
       "max    65979.100000  66004.600000  66967.100000  63543.700000"
      ]
     },
     "execution_count": 36,
     "metadata": {},
     "output_type": "execute_result"
    }
   ],
   "source": [
    "BitcoinData.describe()"
   ]
  },
  {
   "cell_type": "code",
   "execution_count": 37,
   "id": "836f47e7",
   "metadata": {},
   "outputs": [
    {
     "data": {
      "text/plain": [
       "Ttest_relResult(statistic=26.36975605513725, pvalue=9.413511196238074e-142)"
      ]
     },
     "execution_count": 37,
     "metadata": {},
     "output_type": "execute_result"
    }
   ],
   "source": [
    "stats.ttest_rel(BitcoinData.High, BitcoinData.Low)"
   ]
  },
  {
   "cell_type": "code",
   "execution_count": 38,
   "id": "06129061",
   "metadata": {},
   "outputs": [
    {
     "data": {
      "text/plain": [
       "<AxesSubplot:>"
      ]
     },
     "execution_count": 38,
     "metadata": {},
     "output_type": "execute_result"
    },
    {
     "data": {
      "image/png": "[encoded data removed]",
      "text/plain": [
       "<Figure size 432x288 with 1 Axes>"
      ]
     },
     "metadata": {
      "needs_background": "light"
     },
     "output_type": "display_data"
    }
   ],
   "source": [
    "BitcoinData[[\"High\", \"Low\"]].mean().plot(kind=\"bar\")"
   ]
  },
  {
   "cell_type": "code",
   "execution_count": 40,
   "id": "ad4fcb84",
   "metadata": {},
   "outputs": [],
   "source": [
    "BitcoinData['Change Ratio'] = BitcoinData['Change %'].str.rstrip('%').astype('float') / 100.0"
   ]
  },
  {
   "cell_type": "code",
   "execution_count": 41,
   "id": "0dd65a2e",
   "metadata": {},
   "outputs": [],
   "source": [
    "BitcoinData_Clean = shuffle(BitcoinData[[\"Price\", \"Change Ratio\"]].dropna())"
   ]
  },
  {
   "cell_type": "code",
   "execution_count": 42,
   "id": "8647f572",
   "metadata": {},
   "outputs": [
    {
     "data": {
      "text/html": [
       "<div>\n",
       "<style scoped>\n",
       "    .dataframe tbody tr th:only-of-type {\n",
       "        vertical-align: middle;\n",
       "    }\n",
       "\n",
       "    .dataframe tbody tr th {\n",
       "        vertical-align: top;\n",
       "    }\n",
       "\n",
       "    .dataframe thead th {\n",
       "        text-align: right;\n",
       "    }\n",
       "</style>\n",
       "<table border=\"1\" class=\"dataframe\">\n",
       "  <thead>\n",
       "    <tr style=\"text-align: right;\">\n",
       "      <th></th>\n",
       "      <th>Price</th>\n",
       "      <th>Change Ratio</th>\n",
       "    </tr>\n",
       "  </thead>\n",
       "  <tbody>\n",
       "    <tr>\n",
       "      <th>2614</th>\n",
       "      <td>484.5</td>\n",
       "      <td>0.0017</td>\n",
       "    </tr>\n",
       "    <tr>\n",
       "      <th>3689</th>\n",
       "      <td>4.9</td>\n",
       "      <td>0.0103</td>\n",
       "    </tr>\n",
       "    <tr>\n",
       "      <th>357</th>\n",
       "      <td>15303.6</td>\n",
       "      <td>-0.0015</td>\n",
       "    </tr>\n",
       "    <tr>\n",
       "      <th>2703</th>\n",
       "      <td>644.3</td>\n",
       "      <td>-0.0103</td>\n",
       "    </tr>\n",
       "    <tr>\n",
       "      <th>1602</th>\n",
       "      <td>2467.3</td>\n",
       "      <td>-0.0906</td>\n",
       "    </tr>\n",
       "    <tr>\n",
       "      <th>...</th>\n",
       "      <td>...</td>\n",
       "      <td>...</td>\n",
       "    </tr>\n",
       "    <tr>\n",
       "      <th>4002</th>\n",
       "      <td>0.3</td>\n",
       "      <td>0.0000</td>\n",
       "    </tr>\n",
       "    <tr>\n",
       "      <th>942</th>\n",
       "      <td>5010.2</td>\n",
       "      <td>0.0220</td>\n",
       "    </tr>\n",
       "    <tr>\n",
       "      <th>2467</th>\n",
       "      <td>218.5</td>\n",
       "      <td>-0.0575</td>\n",
       "    </tr>\n",
       "    <tr>\n",
       "      <th>3920</th>\n",
       "      <td>0.9</td>\n",
       "      <td>0.0000</td>\n",
       "    </tr>\n",
       "    <tr>\n",
       "      <th>3789</th>\n",
       "      <td>17.5</td>\n",
       "      <td>0.0367</td>\n",
       "    </tr>\n",
       "  </tbody>\n",
       "</table>\n",
       "<p>4126 rows × 2 columns</p>\n",
       "</div>"
      ],
      "text/plain": [
       "        Price  Change Ratio\n",
       "2614    484.5        0.0017\n",
       "3689      4.9        0.0103\n",
       "357   15303.6       -0.0015\n",
       "2703    644.3       -0.0103\n",
       "1602   2467.3       -0.0906\n",
       "...       ...           ...\n",
       "4002      0.3        0.0000\n",
       "942    5010.2        0.0220\n",
       "2467    218.5       -0.0575\n",
       "3920      0.9        0.0000\n",
       "3789     17.5        0.0367\n",
       "\n",
       "[4126 rows x 2 columns]"
      ]
     },
     "execution_count": 42,
     "metadata": {},
     "output_type": "execute_result"
    }
   ],
   "source": [
    "BitcoinData_Clean"
   ]
  },
  {
   "cell_type": "code",
   "execution_count": 77,
   "id": "0c577b8a",
   "metadata": {},
   "outputs": [],
   "source": [
    "x = pd.DataFrame(BitcoinData_Clean[\"Change Ratio\"])\n",
    "y = BitcoinData_Clean[\"Price\"]\n",
    "lm = LinearRegression()"
   ]
  },
  {
   "cell_type": "code",
   "execution_count": 78,
   "id": "a49a9855",
   "metadata": {},
   "outputs": [
    {
     "data": {
      "text/plain": [
       "array([-0.00163722, -0.00425168, -0.00102368])"
      ]
     },
     "execution_count": 78,
     "metadata": {},
     "output_type": "execute_result"
    }
   ],
   "source": [
    "cross_val_score(lm, x, y, cv=3)"
   ]
  },
  {
   "cell_type": "code",
   "execution_count": 43,
   "id": "2c9ca320",
   "metadata": {},
   "outputs": [
    {
     "data": {
      "text/plain": [
       "<AxesSubplot:xlabel='Change Ratio', ylabel='Price'>"
      ]
     },
     "execution_count": 43,
     "metadata": {},
     "output_type": "execute_result"
    },
    {
     "data": {
      "image/png": "[encoded data removed]",
      "text/plain": [
       "<Figure size 432x288 with 1 Axes>"
      ]
     },
     "metadata": {
      "needs_background": "light"
     },
     "output_type": "display_data"
    }
   ],
   "source": [
    "sns.scatterplot(data= BitcoinData, x= \"Change Ratio\", y= \"Price\")"
   ]
  },
  {
   "cell_type": "code",
   "execution_count": 44,
   "id": "b679c9b2",
   "metadata": {},
   "outputs": [
    {
     "data": {
      "text/html": [
       "<div>\n",
       "<style scoped>\n",
       "    .dataframe tbody tr th:only-of-type {\n",
       "        vertical-align: middle;\n",
       "    }\n",
       "\n",
       "    .dataframe tbody tr th {\n",
       "        vertical-align: top;\n",
       "    }\n",
       "\n",
       "    .dataframe thead th {\n",
       "        text-align: right;\n",
       "    }\n",
       "</style>\n",
       "<table border=\"1\" class=\"dataframe\">\n",
       "  <thead>\n",
       "    <tr style=\"text-align: right;\">\n",
       "      <th></th>\n",
       "      <th>Date</th>\n",
       "      <th>Price</th>\n",
       "      <th>Open</th>\n",
       "      <th>High</th>\n",
       "      <th>Low</th>\n",
       "      <th>Vol.</th>\n",
       "      <th>Change %</th>\n",
       "      <th>Change Ratio</th>\n",
       "    </tr>\n",
       "  </thead>\n",
       "  <tbody>\n",
       "    <tr>\n",
       "      <th>2806</th>\n",
       "      <td>Feb 26, 2014</td>\n",
       "      <td>593.1</td>\n",
       "      <td>135.8</td>\n",
       "      <td>650.0</td>\n",
       "      <td>522.8</td>\n",
       "      <td>0.60K</td>\n",
       "      <td>336.84%</td>\n",
       "      <td>3.3684</td>\n",
       "    </tr>\n",
       "  </tbody>\n",
       "</table>\n",
       "</div>"
      ],
      "text/plain": [
       "              Date  Price   Open   High    Low   Vol. Change %  Change Ratio\n",
       "2806  Feb 26, 2014  593.1  135.8  650.0  522.8  0.60K  336.84%        3.3684"
      ]
     },
     "execution_count": 44,
     "metadata": {},
     "output_type": "execute_result"
    }
   ],
   "source": [
    "BitcoinData[BitcoinData['Change Ratio'] > 3]"
   ]
  },
  {
   "cell_type": "code",
   "execution_count": 45,
   "id": "ca4726da",
   "metadata": {},
   "outputs": [
    {
     "data": {
      "text/html": [
       "<div>\n",
       "<style scoped>\n",
       "    .dataframe tbody tr th:only-of-type {\n",
       "        vertical-align: middle;\n",
       "    }\n",
       "\n",
       "    .dataframe tbody tr th {\n",
       "        vertical-align: top;\n",
       "    }\n",
       "\n",
       "    .dataframe thead th {\n",
       "        text-align: right;\n",
       "    }\n",
       "</style>\n",
       "<table border=\"1\" class=\"dataframe\">\n",
       "  <thead>\n",
       "    <tr style=\"text-align: right;\">\n",
       "      <th></th>\n",
       "      <th>Date</th>\n",
       "      <th>Price</th>\n",
       "      <th>Open</th>\n",
       "      <th>High</th>\n",
       "      <th>Low</th>\n",
       "      <th>Vol.</th>\n",
       "      <th>Change %</th>\n",
       "      <th>Change Ratio</th>\n",
       "    </tr>\n",
       "  </thead>\n",
       "  <tbody>\n",
       "    <tr>\n",
       "      <th>0</th>\n",
       "      <td>Nov 02, 2021</td>\n",
       "      <td>63439.9</td>\n",
       "      <td>60912.2</td>\n",
       "      <td>64256.4</td>\n",
       "      <td>60651.5</td>\n",
       "      <td>62.71K</td>\n",
       "      <td>4.14%</td>\n",
       "      <td>0.0414</td>\n",
       "    </tr>\n",
       "    <tr>\n",
       "      <th>1</th>\n",
       "      <td>Nov 01, 2021</td>\n",
       "      <td>60915.3</td>\n",
       "      <td>61310.1</td>\n",
       "      <td>62430.1</td>\n",
       "      <td>59612.7</td>\n",
       "      <td>61.21K</td>\n",
       "      <td>-0.64%</td>\n",
       "      <td>-0.0064</td>\n",
       "    </tr>\n",
       "    <tr>\n",
       "      <th>2</th>\n",
       "      <td>Oct 31, 2021</td>\n",
       "      <td>61309.6</td>\n",
       "      <td>61842.2</td>\n",
       "      <td>62393.7</td>\n",
       "      <td>60005.7</td>\n",
       "      <td>50.06K</td>\n",
       "      <td>-0.86%</td>\n",
       "      <td>-0.0086</td>\n",
       "    </tr>\n",
       "    <tr>\n",
       "      <th>3</th>\n",
       "      <td>Oct 30, 2021</td>\n",
       "      <td>61840.1</td>\n",
       "      <td>62245.0</td>\n",
       "      <td>62338.5</td>\n",
       "      <td>60786.0</td>\n",
       "      <td>40.51K</td>\n",
       "      <td>-0.65%</td>\n",
       "      <td>-0.0065</td>\n",
       "    </tr>\n",
       "    <tr>\n",
       "      <th>4</th>\n",
       "      <td>Oct 29, 2021</td>\n",
       "      <td>62242.8</td>\n",
       "      <td>60579.9</td>\n",
       "      <td>62952.2</td>\n",
       "      <td>60322.2</td>\n",
       "      <td>63.39K</td>\n",
       "      <td>2.74%</td>\n",
       "      <td>0.0274</td>\n",
       "    </tr>\n",
       "    <tr>\n",
       "      <th>...</th>\n",
       "      <td>...</td>\n",
       "      <td>...</td>\n",
       "      <td>...</td>\n",
       "      <td>...</td>\n",
       "      <td>...</td>\n",
       "      <td>...</td>\n",
       "      <td>...</td>\n",
       "      <td>...</td>\n",
       "    </tr>\n",
       "    <tr>\n",
       "      <th>4121</th>\n",
       "      <td>Jul 22, 2010</td>\n",
       "      <td>0.1</td>\n",
       "      <td>0.1</td>\n",
       "      <td>0.1</td>\n",
       "      <td>0.1</td>\n",
       "      <td>2.16K</td>\n",
       "      <td>0.00%</td>\n",
       "      <td>0.0000</td>\n",
       "    </tr>\n",
       "    <tr>\n",
       "      <th>4122</th>\n",
       "      <td>Jul 21, 2010</td>\n",
       "      <td>0.1</td>\n",
       "      <td>0.1</td>\n",
       "      <td>0.1</td>\n",
       "      <td>0.1</td>\n",
       "      <td>0.58K</td>\n",
       "      <td>0.00%</td>\n",
       "      <td>0.0000</td>\n",
       "    </tr>\n",
       "    <tr>\n",
       "      <th>4123</th>\n",
       "      <td>Jul 20, 2010</td>\n",
       "      <td>0.1</td>\n",
       "      <td>0.1</td>\n",
       "      <td>0.1</td>\n",
       "      <td>0.1</td>\n",
       "      <td>0.26K</td>\n",
       "      <td>0.00%</td>\n",
       "      <td>0.0000</td>\n",
       "    </tr>\n",
       "    <tr>\n",
       "      <th>4124</th>\n",
       "      <td>Jul 19, 2010</td>\n",
       "      <td>0.1</td>\n",
       "      <td>0.1</td>\n",
       "      <td>0.1</td>\n",
       "      <td>0.1</td>\n",
       "      <td>0.57K</td>\n",
       "      <td>0.00%</td>\n",
       "      <td>0.0000</td>\n",
       "    </tr>\n",
       "    <tr>\n",
       "      <th>4125</th>\n",
       "      <td>Jul 18, 2010</td>\n",
       "      <td>0.1</td>\n",
       "      <td>0.0</td>\n",
       "      <td>0.1</td>\n",
       "      <td>0.1</td>\n",
       "      <td>0.08K</td>\n",
       "      <td>0.00%</td>\n",
       "      <td>0.0000</td>\n",
       "    </tr>\n",
       "  </tbody>\n",
       "</table>\n",
       "<p>4125 rows × 8 columns</p>\n",
       "</div>"
      ],
      "text/plain": [
       "              Date    Price     Open     High      Low    Vol. Change %  \\\n",
       "0     Nov 02, 2021  63439.9  60912.2  64256.4  60651.5  62.71K    4.14%   \n",
       "1     Nov 01, 2021  60915.3  61310.1  62430.1  59612.7  61.21K   -0.64%   \n",
       "2     Oct 31, 2021  61309.6  61842.2  62393.7  60005.7  50.06K   -0.86%   \n",
       "3     Oct 30, 2021  61840.1  62245.0  62338.5  60786.0  40.51K   -0.65%   \n",
       "4     Oct 29, 2021  62242.8  60579.9  62952.2  60322.2  63.39K    2.74%   \n",
       "...            ...      ...      ...      ...      ...     ...      ...   \n",
       "4121  Jul 22, 2010      0.1      0.1      0.1      0.1   2.16K    0.00%   \n",
       "4122  Jul 21, 2010      0.1      0.1      0.1      0.1   0.58K    0.00%   \n",
       "4123  Jul 20, 2010      0.1      0.1      0.1      0.1   0.26K    0.00%   \n",
       "4124  Jul 19, 2010      0.1      0.1      0.1      0.1   0.57K    0.00%   \n",
       "4125  Jul 18, 2010      0.1      0.0      0.1      0.1   0.08K    0.00%   \n",
       "\n",
       "      Change Ratio  \n",
       "0           0.0414  \n",
       "1          -0.0064  \n",
       "2          -0.0086  \n",
       "3          -0.0065  \n",
       "4           0.0274  \n",
       "...            ...  \n",
       "4121        0.0000  \n",
       "4122        0.0000  \n",
       "4123        0.0000  \n",
       "4124        0.0000  \n",
       "4125        0.0000  \n",
       "\n",
       "[4125 rows x 8 columns]"
      ]
     },
     "execution_count": 45,
     "metadata": {},
     "output_type": "execute_result"
    }
   ],
   "source": [
    "BitcoinData[BitcoinData['Change Ratio'] < 3]"
   ]
  },
  {
   "cell_type": "code",
   "execution_count": 46,
   "id": "2865909f",
   "metadata": {},
   "outputs": [
    {
     "data": {
      "text/plain": [
       "<AxesSubplot:>"
      ]
     },
     "execution_count": 46,
     "metadata": {},
     "output_type": "execute_result"
    },
    {
     "data": {
      "image/png": "[encoded data removed]",
      "text/plain": [
       "<Figure size 432x288 with 1 Axes>"
      ]
     },
     "metadata": {
      "needs_background": "light"
     },
     "output_type": "display_data"
    }
   ],
   "source": [
    "BitcoinData[[\"Price\", \"Change Ratio\"]].plot(kind=\"line\")"
   ]
  },
  {
   "cell_type": "markdown",
   "id": "2a2e7e55",
   "metadata": {},
   "source": [
    "# Data Analysis on Shiba Inu Currency Data"
   ]
  },
  {
   "cell_type": "code",
   "execution_count": 47,
   "id": "2989d4ab",
   "metadata": {},
   "outputs": [],
   "source": [
    "SHIBAINUData = pd.read_csv(\"C:/Users/Administrator/OneDrive/Documents/DataScienceWork/DataScienceResearchData/CurrencyHistoryData/SHIBA_INUHistoricalData.csv\")"
   ]
  },
  {
   "cell_type": "code",
   "execution_count": 48,
   "id": "c04282bf",
   "metadata": {},
   "outputs": [
    {
     "data": {
      "text/html": [
       "<div>\n",
       "<style scoped>\n",
       "    .dataframe tbody tr th:only-of-type {\n",
       "        vertical-align: middle;\n",
       "    }\n",
       "\n",
       "    .dataframe tbody tr th {\n",
       "        vertical-align: top;\n",
       "    }\n",
       "\n",
       "    .dataframe thead th {\n",
       "        text-align: right;\n",
       "    }\n",
       "</style>\n",
       "<table border=\"1\" class=\"dataframe\">\n",
       "  <thead>\n",
       "    <tr style=\"text-align: right;\">\n",
       "      <th></th>\n",
       "      <th>Date</th>\n",
       "      <th>Price</th>\n",
       "      <th>Open</th>\n",
       "      <th>High</th>\n",
       "      <th>Low</th>\n",
       "      <th>Vol.</th>\n",
       "      <th>Change %</th>\n",
       "    </tr>\n",
       "  </thead>\n",
       "  <tbody>\n",
       "    <tr>\n",
       "      <th>0</th>\n",
       "      <td>Nov 02, 2021</td>\n",
       "      <td>0.000068</td>\n",
       "      <td>0.000072</td>\n",
       "      <td>0.000072</td>\n",
       "      <td>0.000067</td>\n",
       "      <td>18,216.03B</td>\n",
       "      <td>-5.02%</td>\n",
       "    </tr>\n",
       "    <tr>\n",
       "      <th>1</th>\n",
       "      <td>Nov 01, 2021</td>\n",
       "      <td>0.000072</td>\n",
       "      <td>0.000067</td>\n",
       "      <td>0.000075</td>\n",
       "      <td>0.000066</td>\n",
       "      <td>35,022.84B</td>\n",
       "      <td>6.85%</td>\n",
       "    </tr>\n",
       "    <tr>\n",
       "      <th>2</th>\n",
       "      <td>Oct 31, 2021</td>\n",
       "      <td>0.000067</td>\n",
       "      <td>0.000065</td>\n",
       "      <td>0.000069</td>\n",
       "      <td>0.000059</td>\n",
       "      <td>38,337.18B</td>\n",
       "      <td>2.35%</td>\n",
       "    </tr>\n",
       "    <tr>\n",
       "      <th>3</th>\n",
       "      <td>Oct 30, 2021</td>\n",
       "      <td>0.000065</td>\n",
       "      <td>0.000075</td>\n",
       "      <td>0.000078</td>\n",
       "      <td>0.000062</td>\n",
       "      <td>39,238.64B</td>\n",
       "      <td>-12.60%</td>\n",
       "    </tr>\n",
       "    <tr>\n",
       "      <th>4</th>\n",
       "      <td>Oct 29, 2021</td>\n",
       "      <td>0.000075</td>\n",
       "      <td>0.000069</td>\n",
       "      <td>0.000077</td>\n",
       "      <td>0.000061</td>\n",
       "      <td>68,132.09B</td>\n",
       "      <td>8.67%</td>\n",
       "    </tr>\n",
       "  </tbody>\n",
       "</table>\n",
       "</div>"
      ],
      "text/plain": [
       "           Date     Price      Open      High       Low        Vol. Change %\n",
       "0  Nov 02, 2021  0.000068  0.000072  0.000072  0.000067  18,216.03B   -5.02%\n",
       "1  Nov 01, 2021  0.000072  0.000067  0.000075  0.000066  35,022.84B    6.85%\n",
       "2  Oct 31, 2021  0.000067  0.000065  0.000069  0.000059  38,337.18B    2.35%\n",
       "3  Oct 30, 2021  0.000065  0.000075  0.000078  0.000062  39,238.64B  -12.60%\n",
       "4  Oct 29, 2021  0.000075  0.000069  0.000077  0.000061  68,132.09B    8.67%"
      ]
     },
     "execution_count": 48,
     "metadata": {},
     "output_type": "execute_result"
    }
   ],
   "source": [
    "SHIBAINUData.head()"
   ]
  },
  {
   "cell_type": "code",
   "execution_count": 49,
   "id": "b0bdbb4b",
   "metadata": {},
   "outputs": [
    {
     "data": {
      "text/html": [
       "<div>\n",
       "<style scoped>\n",
       "    .dataframe tbody tr th:only-of-type {\n",
       "        vertical-align: middle;\n",
       "    }\n",
       "\n",
       "    .dataframe tbody tr th {\n",
       "        vertical-align: top;\n",
       "    }\n",
       "\n",
       "    .dataframe thead th {\n",
       "        text-align: right;\n",
       "    }\n",
       "</style>\n",
       "<table border=\"1\" class=\"dataframe\">\n",
       "  <thead>\n",
       "    <tr style=\"text-align: right;\">\n",
       "      <th></th>\n",
       "      <th>Price</th>\n",
       "      <th>Open</th>\n",
       "      <th>High</th>\n",
       "      <th>Low</th>\n",
       "    </tr>\n",
       "  </thead>\n",
       "  <tbody>\n",
       "    <tr>\n",
       "      <th>count</th>\n",
       "      <td>175.000000</td>\n",
       "      <td>175.000000</td>\n",
       "      <td>175.000000</td>\n",
       "      <td>175.000000</td>\n",
       "    </tr>\n",
       "    <tr>\n",
       "      <th>mean</th>\n",
       "      <td>0.000013</td>\n",
       "      <td>0.000013</td>\n",
       "      <td>0.000014</td>\n",
       "      <td>0.000012</td>\n",
       "    </tr>\n",
       "    <tr>\n",
       "      <th>std</th>\n",
       "      <td>0.000014</td>\n",
       "      <td>0.000014</td>\n",
       "      <td>0.000016</td>\n",
       "      <td>0.000012</td>\n",
       "    </tr>\n",
       "    <tr>\n",
       "      <th>min</th>\n",
       "      <td>0.000006</td>\n",
       "      <td>0.000006</td>\n",
       "      <td>0.000006</td>\n",
       "      <td>0.000005</td>\n",
       "    </tr>\n",
       "    <tr>\n",
       "      <th>25%</th>\n",
       "      <td>0.000007</td>\n",
       "      <td>0.000007</td>\n",
       "      <td>0.000007</td>\n",
       "      <td>0.000007</td>\n",
       "    </tr>\n",
       "    <tr>\n",
       "      <th>50%</th>\n",
       "      <td>0.000008</td>\n",
       "      <td>0.000008</td>\n",
       "      <td>0.000008</td>\n",
       "      <td>0.000007</td>\n",
       "    </tr>\n",
       "    <tr>\n",
       "      <th>75%</th>\n",
       "      <td>0.000009</td>\n",
       "      <td>0.000009</td>\n",
       "      <td>0.000010</td>\n",
       "      <td>0.000009</td>\n",
       "    </tr>\n",
       "    <tr>\n",
       "      <th>max</th>\n",
       "      <td>0.000079</td>\n",
       "      <td>0.000079</td>\n",
       "      <td>0.000088</td>\n",
       "      <td>0.000067</td>\n",
       "    </tr>\n",
       "  </tbody>\n",
       "</table>\n",
       "</div>"
      ],
      "text/plain": [
       "            Price        Open        High         Low\n",
       "count  175.000000  175.000000  175.000000  175.000000\n",
       "mean     0.000013    0.000013    0.000014    0.000012\n",
       "std      0.000014    0.000014    0.000016    0.000012\n",
       "min      0.000006    0.000006    0.000006    0.000005\n",
       "25%      0.000007    0.000007    0.000007    0.000007\n",
       "50%      0.000008    0.000008    0.000008    0.000007\n",
       "75%      0.000009    0.000009    0.000010    0.000009\n",
       "max      0.000079    0.000079    0.000088    0.000067"
      ]
     },
     "execution_count": 49,
     "metadata": {},
     "output_type": "execute_result"
    }
   ],
   "source": [
    "SHIBAINUData.describe()"
   ]
  },
  {
   "cell_type": "code",
   "execution_count": 50,
   "id": "9183302d",
   "metadata": {},
   "outputs": [
    {
     "data": {
      "text/plain": [
       "Ttest_relResult(statistic=6.498825248253134, pvalue=8.228177470196453e-10)"
      ]
     },
     "execution_count": 50,
     "metadata": {},
     "output_type": "execute_result"
    }
   ],
   "source": [
    "stats.ttest_rel(SHIBAINUData.High, SHIBAINUData.Low)"
   ]
  },
  {
   "cell_type": "code",
   "execution_count": 51,
   "id": "27142286",
   "metadata": {},
   "outputs": [
    {
     "data": {
      "text/plain": [
       "<AxesSubplot:>"
      ]
     },
     "execution_count": 51,
     "metadata": {},
     "output_type": "execute_result"
    },
    {
     "data": {
      "image/png": "[encoded data removed]",
      "text/plain": [
       "<Figure size 432x288 with 1 Axes>"
      ]
     },
     "metadata": {
      "needs_background": "light"
     },
     "output_type": "display_data"
    }
   ],
   "source": [
    "SHIBAINUData[[\"High\", \"Low\"]].mean().plot(kind=\"bar\")"
   ]
  },
  {
   "cell_type": "code",
   "execution_count": 52,
   "id": "e9b8c6e0",
   "metadata": {},
   "outputs": [],
   "source": [
    "SHIBAINUData['Change Ratio'] = SHIBAINUData['Change %'].str.rstrip('%').astype('float') / 100.0"
   ]
  },
  {
   "cell_type": "code",
   "execution_count": 53,
   "id": "7c406cd8",
   "metadata": {},
   "outputs": [],
   "source": [
    "SHIBAINUData_Clean = shuffle(SHIBAINUData[[\"Price\", \"Change Ratio\"]].dropna())"
   ]
  },
  {
   "cell_type": "code",
   "execution_count": 54,
   "id": "50360099",
   "metadata": {},
   "outputs": [
    {
     "data": {
      "text/html": [
       "<div>\n",
       "<style scoped>\n",
       "    .dataframe tbody tr th:only-of-type {\n",
       "        vertical-align: middle;\n",
       "    }\n",
       "\n",
       "    .dataframe tbody tr th {\n",
       "        vertical-align: top;\n",
       "    }\n",
       "\n",
       "    .dataframe thead th {\n",
       "        text-align: right;\n",
       "    }\n",
       "</style>\n",
       "<table border=\"1\" class=\"dataframe\">\n",
       "  <thead>\n",
       "    <tr style=\"text-align: right;\">\n",
       "      <th></th>\n",
       "      <th>Price</th>\n",
       "      <th>Change Ratio</th>\n",
       "    </tr>\n",
       "  </thead>\n",
       "  <tbody>\n",
       "    <tr>\n",
       "      <th>50</th>\n",
       "      <td>0.000006</td>\n",
       "      <td>-0.0580</td>\n",
       "    </tr>\n",
       "    <tr>\n",
       "      <th>72</th>\n",
       "      <td>0.000008</td>\n",
       "      <td>0.0086</td>\n",
       "    </tr>\n",
       "    <tr>\n",
       "      <th>40</th>\n",
       "      <td>0.000008</td>\n",
       "      <td>0.0524</td>\n",
       "    </tr>\n",
       "    <tr>\n",
       "      <th>37</th>\n",
       "      <td>0.000007</td>\n",
       "      <td>-0.0287</td>\n",
       "    </tr>\n",
       "    <tr>\n",
       "      <th>48</th>\n",
       "      <td>0.000007</td>\n",
       "      <td>0.0165</td>\n",
       "    </tr>\n",
       "    <tr>\n",
       "      <th>...</th>\n",
       "      <td>...</td>\n",
       "      <td>...</td>\n",
       "    </tr>\n",
       "    <tr>\n",
       "      <th>22</th>\n",
       "      <td>0.000031</td>\n",
       "      <td>0.1712</td>\n",
       "    </tr>\n",
       "    <tr>\n",
       "      <th>110</th>\n",
       "      <td>0.000007</td>\n",
       "      <td>-0.0456</td>\n",
       "    </tr>\n",
       "    <tr>\n",
       "      <th>142</th>\n",
       "      <td>0.000007</td>\n",
       "      <td>0.0925</td>\n",
       "    </tr>\n",
       "    <tr>\n",
       "      <th>45</th>\n",
       "      <td>0.000008</td>\n",
       "      <td>-0.0711</td>\n",
       "    </tr>\n",
       "    <tr>\n",
       "      <th>18</th>\n",
       "      <td>0.000025</td>\n",
       "      <td>-0.0781</td>\n",
       "    </tr>\n",
       "  </tbody>\n",
       "</table>\n",
       "<p>175 rows × 2 columns</p>\n",
       "</div>"
      ],
      "text/plain": [
       "        Price  Change Ratio\n",
       "50   0.000006       -0.0580\n",
       "72   0.000008        0.0086\n",
       "40   0.000008        0.0524\n",
       "37   0.000007       -0.0287\n",
       "48   0.000007        0.0165\n",
       "..        ...           ...\n",
       "22   0.000031        0.1712\n",
       "110  0.000007       -0.0456\n",
       "142  0.000007        0.0925\n",
       "45   0.000008       -0.0711\n",
       "18   0.000025       -0.0781\n",
       "\n",
       "[175 rows x 2 columns]"
      ]
     },
     "execution_count": 54,
     "metadata": {},
     "output_type": "execute_result"
    }
   ],
   "source": [
    "SHIBAINUData_Clean"
   ]
  },
  {
   "cell_type": "code",
   "execution_count": 79,
   "id": "6f91b370",
   "metadata": {},
   "outputs": [],
   "source": [
    "x = pd.DataFrame(SHIBAINUData_Clean[\"Change Ratio\"])\n",
    "y = SHIBAINUData_Clean[\"Price\"]\n",
    "lm = LinearRegression()"
   ]
  },
  {
   "cell_type": "code",
   "execution_count": 80,
   "id": "c5a3771e",
   "metadata": {},
   "outputs": [
    {
     "data": {
      "text/plain": [
       "array([ 0.07704208, -0.0568117 ,  0.02204291])"
      ]
     },
     "execution_count": 80,
     "metadata": {},
     "output_type": "execute_result"
    }
   ],
   "source": [
    "cross_val_score(lm, x, y, cv=3)"
   ]
  },
  {
   "cell_type": "code",
   "execution_count": 55,
   "id": "d682190d",
   "metadata": {},
   "outputs": [
    {
     "data": {
      "text/plain": [
       "<AxesSubplot:xlabel='Change Ratio', ylabel='Price'>"
      ]
     },
     "execution_count": 55,
     "metadata": {},
     "output_type": "execute_result"
    },
    {
     "data": {
      "image/png": "[encoded data removed]",
      "text/plain": [
       "<Figure size 432x288 with 1 Axes>"
      ]
     },
     "metadata": {
      "needs_background": "light"
     },
     "output_type": "display_data"
    }
   ],
   "source": [
    "sns.scatterplot(data= SHIBAINUData, x= \"Change Ratio\", y= \"Price\")"
   ]
  },
  {
   "cell_type": "code",
   "execution_count": 57,
   "id": "a72d8033",
   "metadata": {},
   "outputs": [
    {
     "data": {
      "text/html": [
       "<div>\n",
       "<style scoped>\n",
       "    .dataframe tbody tr th:only-of-type {\n",
       "        vertical-align: middle;\n",
       "    }\n",
       "\n",
       "    .dataframe tbody tr th {\n",
       "        vertical-align: top;\n",
       "    }\n",
       "\n",
       "    .dataframe thead th {\n",
       "        text-align: right;\n",
       "    }\n",
       "</style>\n",
       "<table border=\"1\" class=\"dataframe\">\n",
       "  <thead>\n",
       "    <tr style=\"text-align: right;\">\n",
       "      <th></th>\n",
       "      <th>Date</th>\n",
       "      <th>Price</th>\n",
       "      <th>Open</th>\n",
       "      <th>High</th>\n",
       "      <th>Low</th>\n",
       "      <th>Vol.</th>\n",
       "      <th>Change %</th>\n",
       "      <th>Change Ratio</th>\n",
       "    </tr>\n",
       "  </thead>\n",
       "  <tbody>\n",
       "    <tr>\n",
       "      <th>0</th>\n",
       "      <td>Nov 02, 2021</td>\n",
       "      <td>0.000068</td>\n",
       "      <td>0.000072</td>\n",
       "      <td>0.000072</td>\n",
       "      <td>0.000067</td>\n",
       "      <td>18,216.03B</td>\n",
       "      <td>-5.02%</td>\n",
       "      <td>-0.0502</td>\n",
       "    </tr>\n",
       "    <tr>\n",
       "      <th>1</th>\n",
       "      <td>Nov 01, 2021</td>\n",
       "      <td>0.000072</td>\n",
       "      <td>0.000067</td>\n",
       "      <td>0.000075</td>\n",
       "      <td>0.000066</td>\n",
       "      <td>35,022.84B</td>\n",
       "      <td>6.85%</td>\n",
       "      <td>0.0685</td>\n",
       "    </tr>\n",
       "    <tr>\n",
       "      <th>2</th>\n",
       "      <td>Oct 31, 2021</td>\n",
       "      <td>0.000067</td>\n",
       "      <td>0.000065</td>\n",
       "      <td>0.000069</td>\n",
       "      <td>0.000059</td>\n",
       "      <td>38,337.18B</td>\n",
       "      <td>2.35%</td>\n",
       "      <td>0.0235</td>\n",
       "    </tr>\n",
       "    <tr>\n",
       "      <th>3</th>\n",
       "      <td>Oct 30, 2021</td>\n",
       "      <td>0.000065</td>\n",
       "      <td>0.000075</td>\n",
       "      <td>0.000078</td>\n",
       "      <td>0.000062</td>\n",
       "      <td>39,238.64B</td>\n",
       "      <td>-12.60%</td>\n",
       "      <td>-0.1260</td>\n",
       "    </tr>\n",
       "    <tr>\n",
       "      <th>4</th>\n",
       "      <td>Oct 29, 2021</td>\n",
       "      <td>0.000075</td>\n",
       "      <td>0.000069</td>\n",
       "      <td>0.000077</td>\n",
       "      <td>0.000061</td>\n",
       "      <td>68,132.09B</td>\n",
       "      <td>8.67%</td>\n",
       "      <td>0.0867</td>\n",
       "    </tr>\n",
       "    <tr>\n",
       "      <th>...</th>\n",
       "      <td>...</td>\n",
       "      <td>...</td>\n",
       "      <td>...</td>\n",
       "      <td>...</td>\n",
       "      <td>...</td>\n",
       "      <td>...</td>\n",
       "      <td>...</td>\n",
       "      <td>...</td>\n",
       "    </tr>\n",
       "    <tr>\n",
       "      <th>170</th>\n",
       "      <td>May 16, 2021</td>\n",
       "      <td>0.000018</td>\n",
       "      <td>0.000016</td>\n",
       "      <td>0.000018</td>\n",
       "      <td>0.000013</td>\n",
       "      <td>61,614.36B</td>\n",
       "      <td>14.23%</td>\n",
       "      <td>0.1423</td>\n",
       "    </tr>\n",
       "    <tr>\n",
       "      <th>171</th>\n",
       "      <td>May 15, 2021</td>\n",
       "      <td>0.000016</td>\n",
       "      <td>0.000018</td>\n",
       "      <td>0.000018</td>\n",
       "      <td>0.000015</td>\n",
       "      <td>43,724.10B</td>\n",
       "      <td>-15.87%</td>\n",
       "      <td>-0.1587</td>\n",
       "    </tr>\n",
       "    <tr>\n",
       "      <th>172</th>\n",
       "      <td>May 14, 2021</td>\n",
       "      <td>0.000018</td>\n",
       "      <td>0.000021</td>\n",
       "      <td>0.000021</td>\n",
       "      <td>0.000018</td>\n",
       "      <td>40,929.23B</td>\n",
       "      <td>-12.14%</td>\n",
       "      <td>-0.1214</td>\n",
       "    </tr>\n",
       "    <tr>\n",
       "      <th>173</th>\n",
       "      <td>May 13, 2021</td>\n",
       "      <td>0.000021</td>\n",
       "      <td>0.000018</td>\n",
       "      <td>0.000021</td>\n",
       "      <td>0.000016</td>\n",
       "      <td>91,382.21B</td>\n",
       "      <td>18.97%</td>\n",
       "      <td>0.1897</td>\n",
       "    </tr>\n",
       "    <tr>\n",
       "      <th>174</th>\n",
       "      <td>May 12, 2021</td>\n",
       "      <td>0.000018</td>\n",
       "      <td>0.000030</td>\n",
       "      <td>0.000030</td>\n",
       "      <td>0.000018</td>\n",
       "      <td>86,848.92B</td>\n",
       "      <td>-42.00%</td>\n",
       "      <td>-0.4200</td>\n",
       "    </tr>\n",
       "  </tbody>\n",
       "</table>\n",
       "<p>175 rows × 8 columns</p>\n",
       "</div>"
      ],
      "text/plain": [
       "             Date     Price      Open      High       Low        Vol.  \\\n",
       "0    Nov 02, 2021  0.000068  0.000072  0.000072  0.000067  18,216.03B   \n",
       "1    Nov 01, 2021  0.000072  0.000067  0.000075  0.000066  35,022.84B   \n",
       "2    Oct 31, 2021  0.000067  0.000065  0.000069  0.000059  38,337.18B   \n",
       "3    Oct 30, 2021  0.000065  0.000075  0.000078  0.000062  39,238.64B   \n",
       "4    Oct 29, 2021  0.000075  0.000069  0.000077  0.000061  68,132.09B   \n",
       "..            ...       ...       ...       ...       ...         ...   \n",
       "170  May 16, 2021  0.000018  0.000016  0.000018  0.000013  61,614.36B   \n",
       "171  May 15, 2021  0.000016  0.000018  0.000018  0.000015  43,724.10B   \n",
       "172  May 14, 2021  0.000018  0.000021  0.000021  0.000018  40,929.23B   \n",
       "173  May 13, 2021  0.000021  0.000018  0.000021  0.000016  91,382.21B   \n",
       "174  May 12, 2021  0.000018  0.000030  0.000030  0.000018  86,848.92B   \n",
       "\n",
       "    Change %  Change Ratio  \n",
       "0     -5.02%       -0.0502  \n",
       "1      6.85%        0.0685  \n",
       "2      2.35%        0.0235  \n",
       "3    -12.60%       -0.1260  \n",
       "4      8.67%        0.0867  \n",
       "..       ...           ...  \n",
       "170   14.23%        0.1423  \n",
       "171  -15.87%       -0.1587  \n",
       "172  -12.14%       -0.1214  \n",
       "173   18.97%        0.1897  \n",
       "174  -42.00%       -0.4200  \n",
       "\n",
       "[175 rows x 8 columns]"
      ]
     },
     "execution_count": 57,
     "metadata": {},
     "output_type": "execute_result"
    }
   ],
   "source": [
    "SHIBAINUData[SHIBAINUData['Change Ratio'] < 3]"
   ]
  },
  {
   "cell_type": "code",
   "execution_count": 58,
   "id": "eda381d4",
   "metadata": {},
   "outputs": [
    {
     "data": {
      "text/plain": [
       "<AxesSubplot:>"
      ]
     },
     "execution_count": 58,
     "metadata": {},
     "output_type": "execute_result"
    },
    {
     "data": {
      "image/png": "[encoded data removed]",
      "text/plain": [
       "<Figure size 432x288 with 1 Axes>"
      ]
     },
     "metadata": {
      "needs_background": "light"
     },
     "output_type": "display_data"
    }
   ],
   "source": [
    "SHIBAINUData[[\"Price\", \"Change Ratio\"]].plot(kind=\"line\")"
   ]
  },
  {
   "cell_type": "markdown",
   "id": "60b1ffa7",
   "metadata": {},
   "source": [
    "# Data Analysis for Ethereum coin Data"
   ]
  },
  {
   "cell_type": "code",
   "execution_count": 59,
   "id": "a3a68e95",
   "metadata": {},
   "outputs": [],
   "source": [
    "EthereumData = pd.read_csv(\"C:/Users/Administrator/OneDrive/Documents/DataScienceWork/DataScienceResearchData/CurrencyHistoryData/EthereumHistoricalData.csv\")"
   ]
  },
  {
   "cell_type": "code",
   "execution_count": 60,
   "id": "63800069",
   "metadata": {},
   "outputs": [
    {
     "data": {
      "text/html": [
       "<div>\n",
       "<style scoped>\n",
       "    .dataframe tbody tr th:only-of-type {\n",
       "        vertical-align: middle;\n",
       "    }\n",
       "\n",
       "    .dataframe tbody tr th {\n",
       "        vertical-align: top;\n",
       "    }\n",
       "\n",
       "    .dataframe thead th {\n",
       "        text-align: right;\n",
       "    }\n",
       "</style>\n",
       "<table border=\"1\" class=\"dataframe\">\n",
       "  <thead>\n",
       "    <tr style=\"text-align: right;\">\n",
       "      <th></th>\n",
       "      <th>Date</th>\n",
       "      <th>Price</th>\n",
       "      <th>Open</th>\n",
       "      <th>High</th>\n",
       "      <th>Low</th>\n",
       "      <th>Vol.</th>\n",
       "      <th>Change %</th>\n",
       "    </tr>\n",
       "  </thead>\n",
       "  <tbody>\n",
       "    <tr>\n",
       "      <th>0</th>\n",
       "      <td>Nov 02, 2021</td>\n",
       "      <td>4,483.87</td>\n",
       "      <td>4,320.85</td>\n",
       "      <td>4,518.16</td>\n",
       "      <td>4,287.36</td>\n",
       "      <td>565.69K</td>\n",
       "      <td>3.77%</td>\n",
       "    </tr>\n",
       "    <tr>\n",
       "      <th>1</th>\n",
       "      <td>Nov 01, 2021</td>\n",
       "      <td>4,320.85</td>\n",
       "      <td>4,287.41</td>\n",
       "      <td>4,376.94</td>\n",
       "      <td>4,157.51</td>\n",
       "      <td>574.26K</td>\n",
       "      <td>0.78%</td>\n",
       "    </tr>\n",
       "    <tr>\n",
       "      <th>2</th>\n",
       "      <td>Oct 31, 2021</td>\n",
       "      <td>4,287.56</td>\n",
       "      <td>4,322.00</td>\n",
       "      <td>4,393.61</td>\n",
       "      <td>4,169.48</td>\n",
       "      <td>555.32K</td>\n",
       "      <td>-0.77%</td>\n",
       "    </tr>\n",
       "    <tr>\n",
       "      <th>3</th>\n",
       "      <td>Oct 30, 2021</td>\n",
       "      <td>4,320.65</td>\n",
       "      <td>4,413.70</td>\n",
       "      <td>4,428.41</td>\n",
       "      <td>4,250.24</td>\n",
       "      <td>494.87K</td>\n",
       "      <td>-2.11%</td>\n",
       "    </tr>\n",
       "    <tr>\n",
       "      <th>4</th>\n",
       "      <td>Oct 29, 2021</td>\n",
       "      <td>4,413.70</td>\n",
       "      <td>4,284.90</td>\n",
       "      <td>4,458.30</td>\n",
       "      <td>4,268.21</td>\n",
       "      <td>781.57K</td>\n",
       "      <td>3.01%</td>\n",
       "    </tr>\n",
       "  </tbody>\n",
       "</table>\n",
       "</div>"
      ],
      "text/plain": [
       "           Date     Price      Open      High       Low     Vol. Change %\n",
       "0  Nov 02, 2021  4,483.87  4,320.85  4,518.16  4,287.36  565.69K    3.77%\n",
       "1  Nov 01, 2021  4,320.85  4,287.41  4,376.94  4,157.51  574.26K    0.78%\n",
       "2  Oct 31, 2021  4,287.56  4,322.00  4,393.61  4,169.48  555.32K   -0.77%\n",
       "3  Oct 30, 2021  4,320.65  4,413.70  4,428.41  4,250.24  494.87K   -2.11%\n",
       "4  Oct 29, 2021  4,413.70  4,284.90  4,458.30  4,268.21  781.57K    3.01%"
      ]
     },
     "execution_count": 60,
     "metadata": {},
     "output_type": "execute_result"
    }
   ],
   "source": [
    "EthereumData.head()"
   ]
  },
  {
   "cell_type": "code",
   "execution_count": 61,
   "id": "42dc1edd",
   "metadata": {},
   "outputs": [],
   "source": [
    "EthereumData['Price'] = EthereumData['Price'].str.replace(',','').astype(float)\n",
    "EthereumData['Open'] = EthereumData['Open'].str.replace(',','').astype(float)\n",
    "EthereumData['High'] = EthereumData['High'].str.replace(',','').astype(float)\n",
    "EthereumData['Low'] = EthereumData['Low'].str.replace(',','').astype(float)"
   ]
  },
  {
   "cell_type": "code",
   "execution_count": 62,
   "id": "dd0afd89",
   "metadata": {},
   "outputs": [
    {
     "data": {
      "text/html": [
       "<div>\n",
       "<style scoped>\n",
       "    .dataframe tbody tr th:only-of-type {\n",
       "        vertical-align: middle;\n",
       "    }\n",
       "\n",
       "    .dataframe tbody tr th {\n",
       "        vertical-align: top;\n",
       "    }\n",
       "\n",
       "    .dataframe thead th {\n",
       "        text-align: right;\n",
       "    }\n",
       "</style>\n",
       "<table border=\"1\" class=\"dataframe\">\n",
       "  <thead>\n",
       "    <tr style=\"text-align: right;\">\n",
       "      <th></th>\n",
       "      <th>Price</th>\n",
       "      <th>Open</th>\n",
       "      <th>High</th>\n",
       "      <th>Low</th>\n",
       "    </tr>\n",
       "  </thead>\n",
       "  <tbody>\n",
       "    <tr>\n",
       "      <th>count</th>\n",
       "      <td>2064.000000</td>\n",
       "      <td>2064.000000</td>\n",
       "      <td>2064.000000</td>\n",
       "      <td>2064.000000</td>\n",
       "    </tr>\n",
       "    <tr>\n",
       "      <th>mean</th>\n",
       "      <td>582.291686</td>\n",
       "      <td>580.147500</td>\n",
       "      <td>603.327834</td>\n",
       "      <td>554.865688</td>\n",
       "    </tr>\n",
       "    <tr>\n",
       "      <th>std</th>\n",
       "      <td>890.627868</td>\n",
       "      <td>886.597566</td>\n",
       "      <td>921.618195</td>\n",
       "      <td>849.749958</td>\n",
       "    </tr>\n",
       "    <tr>\n",
       "      <th>min</th>\n",
       "      <td>6.700000</td>\n",
       "      <td>6.680000</td>\n",
       "      <td>7.320000</td>\n",
       "      <td>5.860000</td>\n",
       "    </tr>\n",
       "    <tr>\n",
       "      <th>25%</th>\n",
       "      <td>125.960000</td>\n",
       "      <td>125.842500</td>\n",
       "      <td>131.697500</td>\n",
       "      <td>121.027500</td>\n",
       "    </tr>\n",
       "    <tr>\n",
       "      <th>50%</th>\n",
       "      <td>229.130000</td>\n",
       "      <td>228.980000</td>\n",
       "      <td>236.560000</td>\n",
       "      <td>223.040000</td>\n",
       "    </tr>\n",
       "    <tr>\n",
       "      <th>75%</th>\n",
       "      <td>502.687500</td>\n",
       "      <td>500.525000</td>\n",
       "      <td>525.462500</td>\n",
       "      <td>484.000000</td>\n",
       "    </tr>\n",
       "    <tr>\n",
       "      <th>max</th>\n",
       "      <td>4483.870000</td>\n",
       "      <td>4413.700000</td>\n",
       "      <td>4518.160000</td>\n",
       "      <td>4287.360000</td>\n",
       "    </tr>\n",
       "  </tbody>\n",
       "</table>\n",
       "</div>"
      ],
      "text/plain": [
       "             Price         Open         High          Low\n",
       "count  2064.000000  2064.000000  2064.000000  2064.000000\n",
       "mean    582.291686   580.147500   603.327834   554.865688\n",
       "std     890.627868   886.597566   921.618195   849.749958\n",
       "min       6.700000     6.680000     7.320000     5.860000\n",
       "25%     125.960000   125.842500   131.697500   121.027500\n",
       "50%     229.130000   228.980000   236.560000   223.040000\n",
       "75%     502.687500   500.525000   525.462500   484.000000\n",
       "max    4483.870000  4413.700000  4518.160000  4287.360000"
      ]
     },
     "execution_count": 62,
     "metadata": {},
     "output_type": "execute_result"
    }
   ],
   "source": [
    "EthereumData.describe()"
   ]
  },
  {
   "cell_type": "code",
   "execution_count": 63,
   "id": "3e040c98",
   "metadata": {},
   "outputs": [
    {
     "data": {
      "text/plain": [
       "Ttest_relResult(statistic=24.03069008945808, pvalue=1.0352176456997861e-112)"
      ]
     },
     "execution_count": 63,
     "metadata": {},
     "output_type": "execute_result"
    }
   ],
   "source": [
    "stats.ttest_rel(EthereumData.High, EthereumData.Low)"
   ]
  },
  {
   "cell_type": "code",
   "execution_count": 64,
   "id": "fe3f3326",
   "metadata": {},
   "outputs": [
    {
     "data": {
      "text/plain": [
       "<AxesSubplot:>"
      ]
     },
     "execution_count": 64,
     "metadata": {},
     "output_type": "execute_result"
    },
    {
     "data": {
      "image/png": "[encoded data removed]",
      "text/plain": [
       "<Figure size 432x288 with 1 Axes>"
      ]
     },
     "metadata": {
      "needs_background": "light"
     },
     "output_type": "display_data"
    }
   ],
   "source": [
    "EthereumData[[\"High\", \"Low\"]].mean().plot(kind=\"bar\")"
   ]
  },
  {
   "cell_type": "code",
   "execution_count": 65,
   "id": "6cd72a89",
   "metadata": {},
   "outputs": [],
   "source": [
    "EthereumData['Change Ratio'] = EthereumData['Change %'].str.rstrip('%').astype('float') / 100.0"
   ]
  },
  {
   "cell_type": "code",
   "execution_count": 66,
   "id": "f089d5cf",
   "metadata": {},
   "outputs": [],
   "source": [
    "EthereumData_Clean = shuffle(EthereumData[[\"Price\", \"Change Ratio\"]].dropna())"
   ]
  },
  {
   "cell_type": "code",
   "execution_count": 67,
   "id": "fc402377",
   "metadata": {},
   "outputs": [
    {
     "data": {
      "text/html": [
       "<div>\n",
       "<style scoped>\n",
       "    .dataframe tbody tr th:only-of-type {\n",
       "        vertical-align: middle;\n",
       "    }\n",
       "\n",
       "    .dataframe tbody tr th {\n",
       "        vertical-align: top;\n",
       "    }\n",
       "\n",
       "    .dataframe thead th {\n",
       "        text-align: right;\n",
       "    }\n",
       "</style>\n",
       "<table border=\"1\" class=\"dataframe\">\n",
       "  <thead>\n",
       "    <tr style=\"text-align: right;\">\n",
       "      <th></th>\n",
       "      <th>Price</th>\n",
       "      <th>Change Ratio</th>\n",
       "    </tr>\n",
       "  </thead>\n",
       "  <tbody>\n",
       "    <tr>\n",
       "      <th>912</th>\n",
       "      <td>163.03</td>\n",
       "      <td>-0.0039</td>\n",
       "    </tr>\n",
       "    <tr>\n",
       "      <th>1704</th>\n",
       "      <td>18.50</td>\n",
       "      <td>-0.0508</td>\n",
       "    </tr>\n",
       "    <tr>\n",
       "      <th>1633</th>\n",
       "      <td>90.37</td>\n",
       "      <td>0.0052</td>\n",
       "    </tr>\n",
       "    <tr>\n",
       "      <th>1067</th>\n",
       "      <td>118.23</td>\n",
       "      <td>0.0391</td>\n",
       "    </tr>\n",
       "    <tr>\n",
       "      <th>123</th>\n",
       "      <td>2154.78</td>\n",
       "      <td>0.0217</td>\n",
       "    </tr>\n",
       "    <tr>\n",
       "      <th>...</th>\n",
       "      <td>...</td>\n",
       "      <td>...</td>\n",
       "    </tr>\n",
       "    <tr>\n",
       "      <th>1853</th>\n",
       "      <td>12.84</td>\n",
       "      <td>-0.0206</td>\n",
       "    </tr>\n",
       "    <tr>\n",
       "      <th>1743</th>\n",
       "      <td>10.50</td>\n",
       "      <td>-0.0251</td>\n",
       "    </tr>\n",
       "    <tr>\n",
       "      <th>507</th>\n",
       "      <td>238.22</td>\n",
       "      <td>0.0029</td>\n",
       "    </tr>\n",
       "    <tr>\n",
       "      <th>1754</th>\n",
       "      <td>9.67</td>\n",
       "      <td>-0.0163</td>\n",
       "    </tr>\n",
       "    <tr>\n",
       "      <th>169</th>\n",
       "      <td>3279.68</td>\n",
       "      <td>-0.0844</td>\n",
       "    </tr>\n",
       "  </tbody>\n",
       "</table>\n",
       "<p>2064 rows × 2 columns</p>\n",
       "</div>"
      ],
      "text/plain": [
       "        Price  Change Ratio\n",
       "912    163.03       -0.0039\n",
       "1704    18.50       -0.0508\n",
       "1633    90.37        0.0052\n",
       "1067   118.23        0.0391\n",
       "123   2154.78        0.0217\n",
       "...       ...           ...\n",
       "1853    12.84       -0.0206\n",
       "1743    10.50       -0.0251\n",
       "507    238.22        0.0029\n",
       "1754     9.67       -0.0163\n",
       "169   3279.68       -0.0844\n",
       "\n",
       "[2064 rows x 2 columns]"
      ]
     },
     "execution_count": 67,
     "metadata": {},
     "output_type": "execute_result"
    }
   ],
   "source": [
    "EthereumData_Clean"
   ]
  },
  {
   "cell_type": "code",
   "execution_count": 81,
   "id": "99762649",
   "metadata": {},
   "outputs": [],
   "source": [
    "x = pd.DataFrame(EthereumData_Clean[\"Change Ratio\"])\n",
    "y = EthereumData_Clean[\"Price\"]\n",
    "lm = LinearRegression()"
   ]
  },
  {
   "cell_type": "code",
   "execution_count": 82,
   "id": "963ca3cd",
   "metadata": {},
   "outputs": [
    {
     "data": {
      "text/plain": [
       "array([-0.00071488, -0.00463299, -0.00136005])"
      ]
     },
     "execution_count": 82,
     "metadata": {},
     "output_type": "execute_result"
    }
   ],
   "source": [
    "cross_val_score(lm, x, y, cv=3)"
   ]
  },
  {
   "cell_type": "code",
   "execution_count": 68,
   "id": "77463d55",
   "metadata": {},
   "outputs": [
    {
     "data": {
      "text/plain": [
       "<AxesSubplot:xlabel='Change Ratio', ylabel='Price'>"
      ]
     },
     "execution_count": 68,
     "metadata": {},
     "output_type": "execute_result"
    },
    {
     "data": {
      "image/png": "[encoded data removed]",
      "text/plain": [
       "<Figure size 432x288 with 1 Axes>"
      ]
     },
     "metadata": {
      "needs_background": "light"
     },
     "output_type": "display_data"
    }
   ],
   "source": [
    "sns.scatterplot(data= EthereumData, x= \"Change Ratio\", y= \"Price\")"
   ]
  },
  {
   "cell_type": "code",
   "execution_count": 70,
   "id": "f08fee6d",
   "metadata": {},
   "outputs": [
    {
     "data": {
      "text/html": [
       "<div>\n",
       "<style scoped>\n",
       "    .dataframe tbody tr th:only-of-type {\n",
       "        vertical-align: middle;\n",
       "    }\n",
       "\n",
       "    .dataframe tbody tr th {\n",
       "        vertical-align: top;\n",
       "    }\n",
       "\n",
       "    .dataframe thead th {\n",
       "        text-align: right;\n",
       "    }\n",
       "</style>\n",
       "<table border=\"1\" class=\"dataframe\">\n",
       "  <thead>\n",
       "    <tr style=\"text-align: right;\">\n",
       "      <th></th>\n",
       "      <th>Date</th>\n",
       "      <th>Price</th>\n",
       "      <th>Open</th>\n",
       "      <th>High</th>\n",
       "      <th>Low</th>\n",
       "      <th>Vol.</th>\n",
       "      <th>Change %</th>\n",
       "      <th>Change Ratio</th>\n",
       "    </tr>\n",
       "  </thead>\n",
       "  <tbody>\n",
       "    <tr>\n",
       "      <th>0</th>\n",
       "      <td>Nov 02, 2021</td>\n",
       "      <td>4483.87</td>\n",
       "      <td>4320.85</td>\n",
       "      <td>4518.16</td>\n",
       "      <td>4287.36</td>\n",
       "      <td>565.69K</td>\n",
       "      <td>3.77%</td>\n",
       "      <td>0.0377</td>\n",
       "    </tr>\n",
       "    <tr>\n",
       "      <th>1</th>\n",
       "      <td>Nov 01, 2021</td>\n",
       "      <td>4320.85</td>\n",
       "      <td>4287.41</td>\n",
       "      <td>4376.94</td>\n",
       "      <td>4157.51</td>\n",
       "      <td>574.26K</td>\n",
       "      <td>0.78%</td>\n",
       "      <td>0.0078</td>\n",
       "    </tr>\n",
       "    <tr>\n",
       "      <th>2</th>\n",
       "      <td>Oct 31, 2021</td>\n",
       "      <td>4287.56</td>\n",
       "      <td>4322.00</td>\n",
       "      <td>4393.61</td>\n",
       "      <td>4169.48</td>\n",
       "      <td>555.32K</td>\n",
       "      <td>-0.77%</td>\n",
       "      <td>-0.0077</td>\n",
       "    </tr>\n",
       "    <tr>\n",
       "      <th>3</th>\n",
       "      <td>Oct 30, 2021</td>\n",
       "      <td>4320.65</td>\n",
       "      <td>4413.70</td>\n",
       "      <td>4428.41</td>\n",
       "      <td>4250.24</td>\n",
       "      <td>494.87K</td>\n",
       "      <td>-2.11%</td>\n",
       "      <td>-0.0211</td>\n",
       "    </tr>\n",
       "    <tr>\n",
       "      <th>4</th>\n",
       "      <td>Oct 29, 2021</td>\n",
       "      <td>4413.70</td>\n",
       "      <td>4284.90</td>\n",
       "      <td>4458.30</td>\n",
       "      <td>4268.21</td>\n",
       "      <td>781.57K</td>\n",
       "      <td>3.01%</td>\n",
       "      <td>0.0301</td>\n",
       "    </tr>\n",
       "    <tr>\n",
       "      <th>...</th>\n",
       "      <td>...</td>\n",
       "      <td>...</td>\n",
       "      <td>...</td>\n",
       "      <td>...</td>\n",
       "      <td>...</td>\n",
       "      <td>...</td>\n",
       "      <td>...</td>\n",
       "      <td>...</td>\n",
       "    </tr>\n",
       "    <tr>\n",
       "      <th>2059</th>\n",
       "      <td>Mar 14, 2016</td>\n",
       "      <td>12.50</td>\n",
       "      <td>15.07</td>\n",
       "      <td>15.07</td>\n",
       "      <td>11.40</td>\n",
       "      <td>92.18K</td>\n",
       "      <td>-17.05%</td>\n",
       "      <td>-0.1705</td>\n",
       "    </tr>\n",
       "    <tr>\n",
       "      <th>2060</th>\n",
       "      <td>Mar 13, 2016</td>\n",
       "      <td>15.07</td>\n",
       "      <td>12.92</td>\n",
       "      <td>15.07</td>\n",
       "      <td>12.92</td>\n",
       "      <td>1.30K</td>\n",
       "      <td>16.64%</td>\n",
       "      <td>0.1664</td>\n",
       "    </tr>\n",
       "    <tr>\n",
       "      <th>2061</th>\n",
       "      <td>Mar 12, 2016</td>\n",
       "      <td>12.92</td>\n",
       "      <td>11.95</td>\n",
       "      <td>13.45</td>\n",
       "      <td>11.95</td>\n",
       "      <td>0.83K</td>\n",
       "      <td>8.12%</td>\n",
       "      <td>0.0812</td>\n",
       "    </tr>\n",
       "    <tr>\n",
       "      <th>2062</th>\n",
       "      <td>Mar 11, 2016</td>\n",
       "      <td>11.95</td>\n",
       "      <td>11.75</td>\n",
       "      <td>11.95</td>\n",
       "      <td>11.75</td>\n",
       "      <td>0.18K</td>\n",
       "      <td>1.70%</td>\n",
       "      <td>0.0170</td>\n",
       "    </tr>\n",
       "    <tr>\n",
       "      <th>2063</th>\n",
       "      <td>Mar 10, 2016</td>\n",
       "      <td>11.75</td>\n",
       "      <td>11.20</td>\n",
       "      <td>11.85</td>\n",
       "      <td>11.07</td>\n",
       "      <td>0.00K</td>\n",
       "      <td>4.91%</td>\n",
       "      <td>0.0491</td>\n",
       "    </tr>\n",
       "  </tbody>\n",
       "</table>\n",
       "<p>2064 rows × 8 columns</p>\n",
       "</div>"
      ],
      "text/plain": [
       "              Date    Price     Open     High      Low     Vol. Change %  \\\n",
       "0     Nov 02, 2021  4483.87  4320.85  4518.16  4287.36  565.69K    3.77%   \n",
       "1     Nov 01, 2021  4320.85  4287.41  4376.94  4157.51  574.26K    0.78%   \n",
       "2     Oct 31, 2021  4287.56  4322.00  4393.61  4169.48  555.32K   -0.77%   \n",
       "3     Oct 30, 2021  4320.65  4413.70  4428.41  4250.24  494.87K   -2.11%   \n",
       "4     Oct 29, 2021  4413.70  4284.90  4458.30  4268.21  781.57K    3.01%   \n",
       "...            ...      ...      ...      ...      ...      ...      ...   \n",
       "2059  Mar 14, 2016    12.50    15.07    15.07    11.40   92.18K  -17.05%   \n",
       "2060  Mar 13, 2016    15.07    12.92    15.07    12.92    1.30K   16.64%   \n",
       "2061  Mar 12, 2016    12.92    11.95    13.45    11.95    0.83K    8.12%   \n",
       "2062  Mar 11, 2016    11.95    11.75    11.95    11.75    0.18K    1.70%   \n",
       "2063  Mar 10, 2016    11.75    11.20    11.85    11.07    0.00K    4.91%   \n",
       "\n",
       "      Change Ratio  \n",
       "0           0.0377  \n",
       "1           0.0078  \n",
       "2          -0.0077  \n",
       "3          -0.0211  \n",
       "4           0.0301  \n",
       "...            ...  \n",
       "2059       -0.1705  \n",
       "2060        0.1664  \n",
       "2061        0.0812  \n",
       "2062        0.0170  \n",
       "2063        0.0491  \n",
       "\n",
       "[2064 rows x 8 columns]"
      ]
     },
     "execution_count": 70,
     "metadata": {},
     "output_type": "execute_result"
    }
   ],
   "source": [
    "EthereumData[EthereumData['Change Ratio'] < 3]"
   ]
  },
  {
   "cell_type": "code",
   "execution_count": 71,
   "id": "bdc75ef8",
   "metadata": {},
   "outputs": [
    {
     "data": {
      "text/plain": [
       "<AxesSubplot:>"
      ]
     },
     "execution_count": 71,
     "metadata": {},
     "output_type": "execute_result"
    },
    {
     "data": {
      "image/png": "[encoded data removed]",
      "text/plain": [
       "<Figure size 432x288 with 1 Axes>"
      ]
     },
     "metadata": {
      "needs_background": "light"
     },
     "output_type": "display_data"
    }
   ],
   "source": [
    "EthereumData[[\"Price\", \"Change Ratio\"]].plot(kind=\"line\")"
   ]
  }
 ],
 "metadata": {
  "kernelspec": {
   "display_name": "Python 3",
   "language": "python",
   "name": "python3"
  },
  "language_info": {
   "codemirror_mode": {
    "name": "ipython",
    "version": 3
   },
   "file_extension": ".py",
   "mimetype": "text/x-python",
   "name": "python",
   "nbconvert_exporter": "python",
   "pygments_lexer": "ipython3",
   "version": "3.8.8"
  }
 },
 "nbformat": 4,
 "nbformat_minor": 5
}
